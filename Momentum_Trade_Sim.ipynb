{
 "metadata": {
  "language_info": {
   "codemirror_mode": {
    "name": "ipython",
    "version": 3
   },
   "file_extension": ".py",
   "mimetype": "text/x-python",
   "name": "python",
   "nbconvert_exporter": "python",
   "pygments_lexer": "ipython3",
   "version": "3.8.5"
  },
  "orig_nbformat": 2,
  "kernelspec": {
   "name": "python385jvsc74a57bd0b5ecc31e565de74f2cde783accb45dd0eb98b9609177f37cf7649de894cda790",
   "display_name": "Python 3.8.5 64-bit ('base': conda)"
  }
 },
 "nbformat": 4,
 "nbformat_minor": 2,
 "cells": [
  {
   "cell_type": "code",
   "execution_count": 1,
   "metadata": {},
   "outputs": [],
   "source": [
    "import numpy as np\n",
    "import pandas as pd\n",
    "from scipy import stats\n",
    "import matplotlib.pyplot as plt\n",
    "from data import Data"
   ]
  },
  {
   "source": [
    "## Data Preparation"
   ],
   "cell_type": "markdown",
   "metadata": {}
  },
  {
   "source": [
    "# Reading in data\n",
    "all_data = Data()\n",
    "hose_listings, hnx_listings = all_data.hnx_listings,all_data.hose_listings\n",
    "hose_trades, hnx_trades = all_data.get_all_records()\n",
    "\n",
    "# Removing delisted stocks\n",
    "hose_trades = hose_trades[~hose_trades['Symbol'].isin(hose_listings[hose_listings[\"Status\"] == \"Delisted\"][\"Symbol\"])]\n",
    "hnx_trades = hnx_trades[~hnx_trades['Symbol'].isin(hnx_listings[hnx_listings[\"Status\"] == \"Delisted\"][\"Symbol\"])]"
   ],
   "cell_type": "code",
   "metadata": {},
   "execution_count": null,
   "outputs": []
  },
  {
   "cell_type": "code",
   "execution_count": 31,
   "metadata": {},
   "outputs": [],
   "source": [
    "# Filtering our records from the last 5 years\n",
    "hose_trades_15_20 = hose_trades[hose_trades[\"Date\"] > \"2014-12-31\"].copy(deep = True)\n",
    "hnx_trades_15_20 = hnx_trades[hnx_trades[\"Date\"] > \"2014-12-31\"].copy(deep = True)\n",
    "\n",
    "# Create year, month, day variables\n",
    "def create_time_vars(data):\n",
    "    data.loc[:,\"Year\"] = data.Date.dt.year\n",
    "    data.loc[:,\"Month\"] = data.Date.dt.month\n",
    "    data.loc[:,\"Day\"] = data.Date.dt.day\n",
    "\n",
    "create_time_vars(hose_trades_15_20)\n",
    "create_time_vars(hnx_trades_15_20)"
   ]
  },
  {
   "cell_type": "code",
   "execution_count": 12,
   "metadata": {},
   "outputs": [
    {
     "output_type": "execute_result",
     "data": {
      "text/plain": [
       "          Adj_close  Matched_Volume\n",
       "count  519427.00000    5.194270e+05\n",
       "mean       26.26778    4.865906e+05\n",
       "std        28.64859    1.646994e+06\n",
       "min         0.00000    0.000000e+00\n",
       "25%         9.61000    2.230000e+03\n",
       "50%        17.59000    3.905000e+04\n",
       "75%        31.30000    2.969300e+05\n",
       "max       343.00000    1.284439e+08"
      ],
      "text/html": "<div>\n<style scoped>\n    .dataframe tbody tr th:only-of-type {\n        vertical-align: middle;\n    }\n\n    .dataframe tbody tr th {\n        vertical-align: top;\n    }\n\n    .dataframe thead th {\n        text-align: right;\n    }\n</style>\n<table border=\"1\" class=\"dataframe\">\n  <thead>\n    <tr style=\"text-align: right;\">\n      <th></th>\n      <th>Adj_close</th>\n      <th>Matched_Volume</th>\n    </tr>\n  </thead>\n  <tbody>\n    <tr>\n      <th>count</th>\n      <td>519427.00000</td>\n      <td>5.194270e+05</td>\n    </tr>\n    <tr>\n      <th>mean</th>\n      <td>26.26778</td>\n      <td>4.865906e+05</td>\n    </tr>\n    <tr>\n      <th>std</th>\n      <td>28.64859</td>\n      <td>1.646994e+06</td>\n    </tr>\n    <tr>\n      <th>min</th>\n      <td>0.00000</td>\n      <td>0.000000e+00</td>\n    </tr>\n    <tr>\n      <th>25%</th>\n      <td>9.61000</td>\n      <td>2.230000e+03</td>\n    </tr>\n    <tr>\n      <th>50%</th>\n      <td>17.59000</td>\n      <td>3.905000e+04</td>\n    </tr>\n    <tr>\n      <th>75%</th>\n      <td>31.30000</td>\n      <td>2.969300e+05</td>\n    </tr>\n    <tr>\n      <th>max</th>\n      <td>343.00000</td>\n      <td>1.284439e+08</td>\n    </tr>\n  </tbody>\n</table>\n</div>"
     },
     "metadata": {},
     "execution_count": 12
    }
   ],
   "source": [
    "# Inspect the adjusted closing prices and matched volumes for HOSE\n",
    "hose_trades_15_20[[\"Adj_close\",\"Matched_Volume\"]].describe()"
   ]
  },
  {
   "cell_type": "code",
   "execution_count": 13,
   "metadata": {},
   "outputs": [
    {
     "output_type": "execute_result",
     "data": {
      "text/plain": [
       "           Adj_close  Matched_Volume\n",
       "count  486847.000000    4.868470e+05\n",
       "mean       16.735464    1.006536e+05\n",
       "std        18.050091    6.690127e+05\n",
       "min         0.200000    0.000000e+00\n",
       "25%         6.800000    0.000000e+00\n",
       "50%        11.700000    4.000000e+02\n",
       "75%        19.800000    1.330300e+04\n",
       "max       263.300000    6.558985e+07"
      ],
      "text/html": "<div>\n<style scoped>\n    .dataframe tbody tr th:only-of-type {\n        vertical-align: middle;\n    }\n\n    .dataframe tbody tr th {\n        vertical-align: top;\n    }\n\n    .dataframe thead th {\n        text-align: right;\n    }\n</style>\n<table border=\"1\" class=\"dataframe\">\n  <thead>\n    <tr style=\"text-align: right;\">\n      <th></th>\n      <th>Adj_close</th>\n      <th>Matched_Volume</th>\n    </tr>\n  </thead>\n  <tbody>\n    <tr>\n      <th>count</th>\n      <td>486847.000000</td>\n      <td>4.868470e+05</td>\n    </tr>\n    <tr>\n      <th>mean</th>\n      <td>16.735464</td>\n      <td>1.006536e+05</td>\n    </tr>\n    <tr>\n      <th>std</th>\n      <td>18.050091</td>\n      <td>6.690127e+05</td>\n    </tr>\n    <tr>\n      <th>min</th>\n      <td>0.200000</td>\n      <td>0.000000e+00</td>\n    </tr>\n    <tr>\n      <th>25%</th>\n      <td>6.800000</td>\n      <td>0.000000e+00</td>\n    </tr>\n    <tr>\n      <th>50%</th>\n      <td>11.700000</td>\n      <td>4.000000e+02</td>\n    </tr>\n    <tr>\n      <th>75%</th>\n      <td>19.800000</td>\n      <td>1.330300e+04</td>\n    </tr>\n    <tr>\n      <th>max</th>\n      <td>263.300000</td>\n      <td>6.558985e+07</td>\n    </tr>\n  </tbody>\n</table>\n</div>"
     },
     "metadata": {},
     "execution_count": 13
    }
   ],
   "source": [
    "# Inspect the adjusted closing prices and matched volumes for HNX\n",
    "hnx_trades_15_20[[\"Adj_close\",\"Matched_Volume\"]].describe()"
   ]
  },
  {
   "cell_type": "code",
   "execution_count": 32,
   "metadata": {},
   "outputs": [],
   "source": [
    "# Filter out stocks that have traded for less than 5000 VND or saw a maximum of 1000 trades per day \n",
    "def filter_low_price_and_volume(data):\n",
    "    min_adj_close = data.groupby(\"Symbol\")[\"Adj_close\"].min()\n",
    "    low_price = min_adj_close[min_adj_close <= 5.0].index\n",
    "    max_volume = data.groupby(\"Symbol\")[\"Matched_Volume\"].max()\n",
    "    low_volume = max_volume[max_volume <= 1000].index\n",
    "    low_price_and_volume = set(low_price).union(set(low_volume))\n",
    "    return data[~ data['Symbol'].isin( low_price_and_volume ) ]\n",
    "hose_trades_15_20 = filter_low_price_and_volume(hose_trades_15_20)\n",
    "hnx_trades_15_20 = filter_low_price_and_volume(hnx_trades_15_20)"
   ]
  },
  {
   "cell_type": "code",
   "execution_count": 6,
   "metadata": {},
   "outputs": [
    {
     "output_type": "stream",
     "name": "stdout",
     "text": [
      "HOSE\n",
      "Original:  433\n",
      "After prep:  308\n",
      "\n",
      "HNX\n",
      "Original:  404\n",
      "After prep:  218\n"
     ]
    }
   ],
   "source": [
    "print(\"HOSE\")\n",
    "print(\"Original: \", len(np.unique(hose_trades[\"Symbol\"])))\n",
    "print(\"After prep: \",len(np.unique(hose_trades_15_20[\"Symbol\"])))\n",
    "print(\"\\nHNX\")\n",
    "print(\"Original: \",len(np.unique(hnx_trades[\"Symbol\"])))\n",
    "print(\"After prep: \",len(np.unique(hnx_trades_15_20[\"Symbol\"])))"
   ]
  },
  {
   "source": [
    "## Calculate Momentum Strategies' Returns"
   ],
   "cell_type": "markdown",
   "metadata": {}
  },
  {
   "source": [
    "# Calculate strategy returns for every month\n",
    "def calculate_strategy_returns(trade_data, preform_period, hold_period):\n",
    "    # Get the start of the trading month.\n",
    "    # Because on some days only a few listings are traded, I had to specify that number of listings being traded exceed 200 to get whole-market sessions\n",
    "    def get_trading_month_start(trade_data):\n",
    "        valid_df = trade_data.groupby([\"Year\",\"Month\",\"Date\"]).size().reset_index()\n",
    "        month_starts =  valid_df[valid_df[0] >= 200].groupby([\"Year\",\"Month\"])[\"Date\"].min().reset_index()\n",
    "        return month_starts\n",
    "    \n",
    "    # Helper function\n",
    "    def single_symbol_strategy(symbol_trade_data):\n",
    "        df = symbol_trade_data.sort_values(by = \"Date\")\n",
    "        preform = df[\"Adj_close\"].shift( preform_period)\n",
    "        hold = df[\"Adj_close\"].shift( - hold_period)\n",
    "        res_df = pd.DataFrame({\"Month_start\": df[\"Date\"],\n",
    "                            \"Preform_date\": df[\"Date\"].shift( preform_period),\n",
    "                            \"Hold_date\": df[\"Date\"].shift(- hold_period),\n",
    "                            \"Symbol\":  df[\"Symbol\"],\n",
    "                            \"Month_start_price\": df[\"Adj_close\"], \n",
    "                            \"Preform_price\": preform, \n",
    "                            \"Hold_price\": hold }).dropna()\n",
    "        return res_df\n",
    "\n",
    "    # Form dataset with prices at month start, at beginning of preformation period and at the end of holding period to facilitate returns calculations\n",
    "    def form_strategy_df(trade_data):\n",
    "        month_starts = get_trading_month_start(trade_data)\n",
    "        df = trade_data[trade_data[\"Date\"].isin(month_starts[\"Date\"])][[\"Date\", \"Symbol\",\"Adj_close\"]]\n",
    "        periods = []\n",
    "        symbols = np.unique(trade_data[\"Symbol\"])\n",
    "        for symbol in symbols:\n",
    "            periods.append(single_symbol_strategy(df[df[\"Symbol\"]==symbol]))\n",
    "        test_df =  pd.concat(periods).sort_values(by=[\"Month_start\",\"Symbol\"])\n",
    "        pref_rets = (test_df[\"Month_start_price\"]-test_df[\"Preform_price\"])*100/(test_df[\"Preform_price\"])\n",
    "        test_df[\"Preform_returns\"] = pref_rets\n",
    "        return  test_df\n",
    "\n",
    "    test_df = form_strategy_df(trade_data)\n",
    "    returns_df = {\"Month_start\":[],\"Winners\":[],\"Losers\":[],\"Winners_minus_Losers\":[]}\n",
    "    \n",
    "    for month_start in np.unique(test_df['Month_start']):\n",
    "        df = test_df[test_df['Month_start'] == month_start].copy(deep = True)\n",
    "        # get winners - top 10th percentile\n",
    "        winners = df[df[\"Preform_returns\"] > df[\"Preform_returns\"].quantile(.9)].copy(deep = True)\n",
    "        # get losers - bottom 10th percentile\n",
    "        losers = df[df[\"Preform_returns\"] < df[\"Preform_returns\"].quantile(.1)].copy(deep = True)\n",
    "\n",
    "        # Adjust the prices to simulate an \"Equally Weighted Portfolio\"\n",
    "        winners[\"Adj_Hold_price\"] = winners.Hold_price/winners.Month_start_price\n",
    "        losers[\"Adj_Hold_price\"] = losers.Hold_price/losers.Month_start_price\n",
    "\n",
    "        # calculate returns for individual stocks\n",
    "        winners_returns = (np.sum(winners[\"Adj_Hold_price\"]) - len(winners))/(len(winners))\n",
    "        losers_returns = (len(losers) - np.sum(losers[\"Adj_Hold_price\"]))/(len(losers))\n",
    "        wml_returns = (np.sum(winners[\"Adj_Hold_price\"]) + len(losers) - len(winners) - np.sum(losers[\"Adj_Hold_price\"]) )/(len(winners) + np.sum(losers[\"Adj_Hold_price\"]))\n",
    "\n",
    "        # Append to data frame\n",
    "        returns_df[\"Month_start\"].append(month_start)\n",
    "        returns_df[\"Winners\"].append(winners_returns)\n",
    "        returns_df[\"Losers\"].append(losers_returns)\n",
    "        returns_df[\"Winners_minus_Losers\"].append(wml_returns )\n",
    "\n",
    "    returns_df = pd.DataFrame(returns_df)\n",
    "    returns_df[\"Preform_Period\"] = preform_period\n",
    "    returns_df[\"Hold_Period\"] = hold_period\n",
    "    return returns_df\n",
    "# Conduct t-test against mean returns of 0 for different combinations of preformation and holding periods\n",
    "def calculate_t_test(trade_data):\n",
    "    pre_hold_combo =[[3,3],\n",
    "            [6,3],\n",
    "            [3,6],\n",
    "            [6,6],\n",
    "            [6,9],\n",
    "            [9,6],]\n",
    "            # [9,9],\n",
    "            # [3,9],\n",
    "            # [9,3]]\n",
    "    test_res = {\"Preform\":[],\"Hold\":[], \"Strategy\":[],\"Mean Returns\":[],\"Stdev. Returns\":[],\"p-value\":[],\"t-stat\": [] }\n",
    "    for combo in pre_hold_combo:\n",
    "        preform_period = combo[0]\n",
    "        hold_period = combo[1]\n",
    "        strat_rets = calculate_strategy_returns(trade_data,  preform_period, hold_period)\n",
    "        for strat in [\"Winners\",\"Losers\",\"Winners_minus_Losers\"]:\n",
    "            test_res[\"Preform\"].append(preform_period)\n",
    "            test_res[\"Hold\"].append(hold_period)\n",
    "            t_res = stats.ttest_1samp(strat_rets[strat],0.0)\n",
    "            test_res[\"Strategy\"].append(strat)\n",
    "            test_res[\"Mean Returns\"].append(np.mean(strat_rets[strat]))\n",
    "            test_res[\"Stdev. Returns\"].append(np.std(strat_rets[strat], ddof = 1))\n",
    "            test_res[\"p-value\"].append(t_res.pvalue)\n",
    "            test_res[\"t-stat\"].append(t_res.statistic)\n",
    "    test_res = pd.DataFrame(test_res)\n",
    "    return test_res"
   ],
   "cell_type": "code",
   "metadata": {
    "tags": []
   },
   "execution_count": 35,
   "outputs": []
  },
  {
   "source": [
    "hnx_test_res_15_20  =  calculate_t_test(hnx_trades_15_20)\n",
    "hose_test_res_15_20  =  calculate_t_test(hose_trades_15_20)"
   ],
   "cell_type": "code",
   "metadata": {
    "tags": []
   },
   "execution_count": null,
   "outputs": []
  },
  {
   "cell_type": "code",
   "execution_count": 51,
   "metadata": {},
   "outputs": [],
   "source": [
    "# Functions to display results\n",
    "def highlight_signif(s):\n",
    "    '''\n",
    "    highlight significant p-values\n",
    "    '''\n",
    "    is_signficant = s <= 0.05\n",
    "    return ['background-color: yellow' if v else '' for v in is_signficant]\n",
    "\n",
    "def display_test_res(test_res):\n",
    "    return test_res.sort_values([\"Preform\",\"Hold\"]).style.apply(highlight_signif, subset=['p-value'])"
   ]
  },
  {
   "cell_type": "code",
   "execution_count": 52,
   "metadata": {},
   "outputs": [
    {
     "output_type": "execute_result",
     "data": {
      "text/plain": [
       "<pandas.io.formats.style.Styler at 0x120b9f850>"
      ],
      "text/html": "<style  type=\"text/css\" >\n#T_3226f_row0_col5,#T_3226f_row1_col5,#T_3226f_row2_col5,#T_3226f_row3_col5,#T_3226f_row5_col5,#T_3226f_row6_col5,#T_3226f_row7_col5,#T_3226f_row8_col5,#T_3226f_row9_col5,#T_3226f_row10_col5,#T_3226f_row11_col5,#T_3226f_row13_col5,#T_3226f_row14_col5{\n            background-color:  yellow;\n        }</style><table id=\"T_3226f_\" ><thead>    <tr>        <th class=\"blank level0\" ></th>        <th class=\"col_heading level0 col0\" >Preform</th>        <th class=\"col_heading level0 col1\" >Hold</th>        <th class=\"col_heading level0 col2\" >Strategy</th>        <th class=\"col_heading level0 col3\" >Mean Returns</th>        <th class=\"col_heading level0 col4\" >Stdev. Returns</th>        <th class=\"col_heading level0 col5\" >p-value</th>        <th class=\"col_heading level0 col6\" >t-stat</th>    </tr></thead><tbody>\n                <tr>\n                        <th id=\"T_3226f_level0_row0\" class=\"row_heading level0 row0\" >0</th>\n                        <td id=\"T_3226f_row0_col0\" class=\"data row0 col0\" >3</td>\n                        <td id=\"T_3226f_row0_col1\" class=\"data row0 col1\" >3</td>\n                        <td id=\"T_3226f_row0_col2\" class=\"data row0 col2\" >Winners</td>\n                        <td id=\"T_3226f_row0_col3\" class=\"data row0 col3\" >-0.045791</td>\n                        <td id=\"T_3226f_row0_col4\" class=\"data row0 col4\" >0.081006</td>\n                        <td id=\"T_3226f_row0_col5\" class=\"data row0 col5\" >0.028224</td>\n                        <td id=\"T_3226f_row0_col6\" class=\"data row0 col6\" >-2.398288</td>\n            </tr>\n            <tr>\n                        <th id=\"T_3226f_level0_row1\" class=\"row_heading level0 row1\" >1</th>\n                        <td id=\"T_3226f_row1_col0\" class=\"data row1 col0\" >3</td>\n                        <td id=\"T_3226f_row1_col1\" class=\"data row1 col1\" >3</td>\n                        <td id=\"T_3226f_row1_col2\" class=\"data row1 col2\" >Losers</td>\n                        <td id=\"T_3226f_row1_col3\" class=\"data row1 col3\" >-0.098844</td>\n                        <td id=\"T_3226f_row1_col4\" class=\"data row1 col4\" >0.125722</td>\n                        <td id=\"T_3226f_row1_col5\" class=\"data row1 col5\" >0.003917</td>\n                        <td id=\"T_3226f_row1_col6\" class=\"data row1 col6\" >-3.335621</td>\n            </tr>\n            <tr>\n                        <th id=\"T_3226f_level0_row2\" class=\"row_heading level0 row2\" >2</th>\n                        <td id=\"T_3226f_row2_col0\" class=\"data row2 col0\" >3</td>\n                        <td id=\"T_3226f_row2_col1\" class=\"data row2 col1\" >3</td>\n                        <td id=\"T_3226f_row2_col2\" class=\"data row2 col2\" >Winners_minus_Losers</td>\n                        <td id=\"T_3226f_row2_col3\" class=\"data row2 col3\" >-0.065220</td>\n                        <td id=\"T_3226f_row2_col4\" class=\"data row2 col4\" >0.076003</td>\n                        <td id=\"T_3226f_row2_col5\" class=\"data row2 col5\" >0.002022</td>\n                        <td id=\"T_3226f_row2_col6\" class=\"data row2 col6\" >-3.640702</td>\n            </tr>\n            <tr>\n                        <th id=\"T_3226f_level0_row3\" class=\"row_heading level0 row3\" >6</th>\n                        <td id=\"T_3226f_row3_col0\" class=\"data row3 col0\" >3</td>\n                        <td id=\"T_3226f_row3_col1\" class=\"data row3 col1\" >6</td>\n                        <td id=\"T_3226f_row3_col2\" class=\"data row3 col2\" >Winners</td>\n                        <td id=\"T_3226f_row3_col3\" class=\"data row3 col3\" >-0.043832</td>\n                        <td id=\"T_3226f_row3_col4\" class=\"data row3 col4\" >0.064431</td>\n                        <td id=\"T_3226f_row3_col5\" class=\"data row3 col5\" >0.019603</td>\n                        <td id=\"T_3226f_row3_col6\" class=\"data row3 col6\" >-2.634767</td>\n            </tr>\n            <tr>\n                        <th id=\"T_3226f_level0_row4\" class=\"row_heading level0 row4\" >7</th>\n                        <td id=\"T_3226f_row4_col0\" class=\"data row4 col0\" >3</td>\n                        <td id=\"T_3226f_row4_col1\" class=\"data row4 col1\" >6</td>\n                        <td id=\"T_3226f_row4_col2\" class=\"data row4 col2\" >Losers</td>\n                        <td id=\"T_3226f_row4_col3\" class=\"data row4 col3\" >-0.072414</td>\n                        <td id=\"T_3226f_row4_col4\" class=\"data row4 col4\" >0.146787</td>\n                        <td id=\"T_3226f_row4_col5\" class=\"data row4 col5\" >0.076746</td>\n                        <td id=\"T_3226f_row4_col6\" class=\"data row4 col6\" >-1.910657</td>\n            </tr>\n            <tr>\n                        <th id=\"T_3226f_level0_row5\" class=\"row_heading level0 row5\" >8</th>\n                        <td id=\"T_3226f_row5_col0\" class=\"data row5 col0\" >3</td>\n                        <td id=\"T_3226f_row5_col1\" class=\"data row5 col1\" >6</td>\n                        <td id=\"T_3226f_row5_col2\" class=\"data row5 col2\" >Winners_minus_Losers</td>\n                        <td id=\"T_3226f_row5_col3\" class=\"data row5 col3\" >-0.052114</td>\n                        <td id=\"T_3226f_row5_col4\" class=\"data row5 col4\" >0.068350</td>\n                        <td id=\"T_3226f_row5_col5\" class=\"data row5 col5\" >0.010484</td>\n                        <td id=\"T_3226f_row5_col6\" class=\"data row5 col6\" >-2.952951</td>\n            </tr>\n            <tr>\n                        <th id=\"T_3226f_level0_row6\" class=\"row_heading level0 row6\" >3</th>\n                        <td id=\"T_3226f_row6_col0\" class=\"data row6 col0\" >6</td>\n                        <td id=\"T_3226f_row6_col1\" class=\"data row6 col1\" >3</td>\n                        <td id=\"T_3226f_row6_col2\" class=\"data row6 col2\" >Winners</td>\n                        <td id=\"T_3226f_row6_col3\" class=\"data row6 col3\" >-0.041002</td>\n                        <td id=\"T_3226f_row6_col4\" class=\"data row6 col4\" >0.050600</td>\n                        <td id=\"T_3226f_row6_col5\" class=\"data row6 col5\" >0.007258</td>\n                        <td id=\"T_3226f_row6_col6\" class=\"data row6 col6\" >-3.138362</td>\n            </tr>\n            <tr>\n                        <th id=\"T_3226f_level0_row7\" class=\"row_heading level0 row7\" >4</th>\n                        <td id=\"T_3226f_row7_col0\" class=\"data row7 col0\" >6</td>\n                        <td id=\"T_3226f_row7_col1\" class=\"data row7 col1\" >3</td>\n                        <td id=\"T_3226f_row7_col2\" class=\"data row7 col2\" >Losers</td>\n                        <td id=\"T_3226f_row7_col3\" class=\"data row7 col3\" >-0.075955</td>\n                        <td id=\"T_3226f_row7_col4\" class=\"data row7 col4\" >0.121800</td>\n                        <td id=\"T_3226f_row7_col5\" class=\"data row7 col5\" >0.029982</td>\n                        <td id=\"T_3226f_row7_col6\" class=\"data row7 col6\" >-2.415207</td>\n            </tr>\n            <tr>\n                        <th id=\"T_3226f_level0_row8\" class=\"row_heading level0 row8\" >5</th>\n                        <td id=\"T_3226f_row8_col0\" class=\"data row8 col0\" >6</td>\n                        <td id=\"T_3226f_row8_col1\" class=\"data row8 col1\" >3</td>\n                        <td id=\"T_3226f_row8_col2\" class=\"data row8 col2\" >Winners_minus_Losers</td>\n                        <td id=\"T_3226f_row8_col3\" class=\"data row8 col3\" >-0.053458</td>\n                        <td id=\"T_3226f_row8_col4\" class=\"data row8 col4\" >0.058021</td>\n                        <td id=\"T_3226f_row8_col5\" class=\"data row8 col5\" >0.003086</td>\n                        <td id=\"T_3226f_row8_col6\" class=\"data row8 col6\" >-3.568390</td>\n            </tr>\n            <tr>\n                        <th id=\"T_3226f_level0_row9\" class=\"row_heading level0 row9\" >9</th>\n                        <td id=\"T_3226f_row9_col0\" class=\"data row9 col0\" >6</td>\n                        <td id=\"T_3226f_row9_col1\" class=\"data row9 col1\" >6</td>\n                        <td id=\"T_3226f_row9_col2\" class=\"data row9 col2\" >Winners</td>\n                        <td id=\"T_3226f_row9_col3\" class=\"data row9 col3\" >-0.038336</td>\n                        <td id=\"T_3226f_row9_col4\" class=\"data row9 col4\" >0.056237</td>\n                        <td id=\"T_3226f_row9_col5\" class=\"data row9 col5\" >0.037719</td>\n                        <td id=\"T_3226f_row9_col6\" class=\"data row9 col6\" >-2.361418</td>\n            </tr>\n            <tr>\n                        <th id=\"T_3226f_level0_row10\" class=\"row_heading level0 row10\" >10</th>\n                        <td id=\"T_3226f_row10_col0\" class=\"data row10 col0\" >6</td>\n                        <td id=\"T_3226f_row10_col1\" class=\"data row10 col1\" >6</td>\n                        <td id=\"T_3226f_row10_col2\" class=\"data row10 col2\" >Losers</td>\n                        <td id=\"T_3226f_row10_col3\" class=\"data row10 col3\" >-0.109493</td>\n                        <td id=\"T_3226f_row10_col4\" class=\"data row10 col4\" >0.159957</td>\n                        <td id=\"T_3226f_row10_col5\" class=\"data row10 col5\" >0.037071</td>\n                        <td id=\"T_3226f_row10_col6\" class=\"data row10 col6\" >-2.371231</td>\n            </tr>\n            <tr>\n                        <th id=\"T_3226f_level0_row11\" class=\"row_heading level0 row11\" >11</th>\n                        <td id=\"T_3226f_row11_col0\" class=\"data row11 col0\" >6</td>\n                        <td id=\"T_3226f_row11_col1\" class=\"data row11 col1\" >6</td>\n                        <td id=\"T_3226f_row11_col2\" class=\"data row11 col2\" >Winners_minus_Losers</td>\n                        <td id=\"T_3226f_row11_col3\" class=\"data row11 col3\" >-0.065212</td>\n                        <td id=\"T_3226f_row11_col4\" class=\"data row11 col4\" >0.074429</td>\n                        <td id=\"T_3226f_row11_col5\" class=\"data row11 col5\" >0.011346</td>\n                        <td id=\"T_3226f_row11_col6\" class=\"data row11 col6\" >-3.035082</td>\n            </tr>\n            <tr>\n                        <th id=\"T_3226f_level0_row12\" class=\"row_heading level0 row12\" >12</th>\n                        <td id=\"T_3226f_row12_col0\" class=\"data row12 col0\" >6</td>\n                        <td id=\"T_3226f_row12_col1\" class=\"data row12 col1\" >9</td>\n                        <td id=\"T_3226f_row12_col2\" class=\"data row12 col2\" >Winners</td>\n                        <td id=\"T_3226f_row12_col3\" class=\"data row12 col3\" >-0.040666</td>\n                        <td id=\"T_3226f_row12_col4\" class=\"data row12 col4\" >0.061038</td>\n                        <td id=\"T_3226f_row12_col5\" class=\"data row12 col5\" >0.080679</td>\n                        <td id=\"T_3226f_row12_col6\" class=\"data row12 col6\" >-1.998696</td>\n            </tr>\n            <tr>\n                        <th id=\"T_3226f_level0_row13\" class=\"row_heading level0 row13\" >13</th>\n                        <td id=\"T_3226f_row13_col0\" class=\"data row13 col0\" >6</td>\n                        <td id=\"T_3226f_row13_col1\" class=\"data row13 col1\" >9</td>\n                        <td id=\"T_3226f_row13_col2\" class=\"data row13 col2\" >Losers</td>\n                        <td id=\"T_3226f_row13_col3\" class=\"data row13 col3\" >-0.142015</td>\n                        <td id=\"T_3226f_row13_col4\" class=\"data row13 col4\" >0.170137</td>\n                        <td id=\"T_3226f_row13_col5\" class=\"data row13 col5\" >0.036705</td>\n                        <td id=\"T_3226f_row13_col6\" class=\"data row13 col6\" >-2.504131</td>\n            </tr>\n            <tr>\n                        <th id=\"T_3226f_level0_row14\" class=\"row_heading level0 row14\" >14</th>\n                        <td id=\"T_3226f_row14_col0\" class=\"data row14 col0\" >6</td>\n                        <td id=\"T_3226f_row14_col1\" class=\"data row14 col1\" >9</td>\n                        <td id=\"T_3226f_row14_col2\" class=\"data row14 col2\" >Winners_minus_Losers</td>\n                        <td id=\"T_3226f_row14_col3\" class=\"data row14 col3\" >-0.080355</td>\n                        <td id=\"T_3226f_row14_col4\" class=\"data row14 col4\" >0.075269</td>\n                        <td id=\"T_3226f_row14_col5\" class=\"data row14 col5\" >0.012561</td>\n                        <td id=\"T_3226f_row14_col6\" class=\"data row14 col6\" >-3.202703</td>\n            </tr>\n            <tr>\n                        <th id=\"T_3226f_level0_row15\" class=\"row_heading level0 row15\" >15</th>\n                        <td id=\"T_3226f_row15_col0\" class=\"data row15 col0\" >9</td>\n                        <td id=\"T_3226f_row15_col1\" class=\"data row15 col1\" >6</td>\n                        <td id=\"T_3226f_row15_col2\" class=\"data row15 col2\" >Winners</td>\n                        <td id=\"T_3226f_row15_col3\" class=\"data row15 col3\" >-0.014077</td>\n                        <td id=\"T_3226f_row15_col4\" class=\"data row15 col4\" >0.045263</td>\n                        <td id=\"T_3226f_row15_col5\" class=\"data row15 col5\" >0.378096</td>\n                        <td id=\"T_3226f_row15_col6\" class=\"data row15 col6\" >-0.933047</td>\n            </tr>\n            <tr>\n                        <th id=\"T_3226f_level0_row16\" class=\"row_heading level0 row16\" >16</th>\n                        <td id=\"T_3226f_row16_col0\" class=\"data row16 col0\" >9</td>\n                        <td id=\"T_3226f_row16_col1\" class=\"data row16 col1\" >6</td>\n                        <td id=\"T_3226f_row16_col2\" class=\"data row16 col2\" >Losers</td>\n                        <td id=\"T_3226f_row16_col3\" class=\"data row16 col3\" >-0.118554</td>\n                        <td id=\"T_3226f_row16_col4\" class=\"data row16 col4\" >0.174490</td>\n                        <td id=\"T_3226f_row16_col5\" class=\"data row16 col5\" >0.075873</td>\n                        <td id=\"T_3226f_row16_col6\" class=\"data row16 col6\" >-2.038305</td>\n            </tr>\n            <tr>\n                        <th id=\"T_3226f_level0_row17\" class=\"row_heading level0 row17\" >17</th>\n                        <td id=\"T_3226f_row17_col0\" class=\"data row17 col0\" >9</td>\n                        <td id=\"T_3226f_row17_col1\" class=\"data row17 col1\" >6</td>\n                        <td id=\"T_3226f_row17_col2\" class=\"data row17 col2\" >Winners_minus_Losers</td>\n                        <td id=\"T_3226f_row17_col3\" class=\"data row17 col3\" >-0.057136</td>\n                        <td id=\"T_3226f_row17_col4\" class=\"data row17 col4\" >0.076926</td>\n                        <td id=\"T_3226f_row17_col5\" class=\"data row17 col5\" >0.056452</td>\n                        <td id=\"T_3226f_row17_col6\" class=\"data row17 col6\" >-2.228233</td>\n            </tr>\n    </tbody></table>"
     },
     "metadata": {},
     "execution_count": 52
    }
   ],
   "source": [
    "display_test_res(hnx_test_res_15_20)"
   ]
  },
  {
   "cell_type": "code",
   "execution_count": 53,
   "metadata": {},
   "outputs": [
    {
     "output_type": "execute_result",
     "data": {
      "text/plain": [
       "<pandas.io.formats.style.Styler at 0x120aa0040>"
      ],
      "text/html": "<style  type=\"text/css\" >\n#T_476a6_row0_col5,#T_476a6_row1_col5,#T_476a6_row2_col5,#T_476a6_row4_col5,#T_476a6_row5_col5,#T_476a6_row7_col5,#T_476a6_row8_col5,#T_476a6_row10_col5,#T_476a6_row11_col5,#T_476a6_row13_col5,#T_476a6_row14_col5,#T_476a6_row16_col5,#T_476a6_row17_col5{\n            background-color:  yellow;\n        }</style><table id=\"T_476a6_\" ><thead>    <tr>        <th class=\"blank level0\" ></th>        <th class=\"col_heading level0 col0\" >Preform</th>        <th class=\"col_heading level0 col1\" >Hold</th>        <th class=\"col_heading level0 col2\" >Strategy</th>        <th class=\"col_heading level0 col3\" >Mean Returns</th>        <th class=\"col_heading level0 col4\" >Stdev. Returns</th>        <th class=\"col_heading level0 col5\" >p-value</th>        <th class=\"col_heading level0 col6\" >t-stat</th>    </tr></thead><tbody>\n                <tr>\n                        <th id=\"T_476a6_level0_row0\" class=\"row_heading level0 row0\" >0</th>\n                        <td id=\"T_476a6_row0_col0\" class=\"data row0 col0\" >3</td>\n                        <td id=\"T_476a6_row0_col1\" class=\"data row0 col1\" >3</td>\n                        <td id=\"T_476a6_row0_col2\" class=\"data row0 col2\" >Winners</td>\n                        <td id=\"T_476a6_row0_col3\" class=\"data row0 col3\" >-0.034362</td>\n                        <td id=\"T_476a6_row0_col4\" class=\"data row0 col4\" >0.115220</td>\n                        <td id=\"T_476a6_row0_col5\" class=\"data row0 col5\" >0.018195</td>\n                        <td id=\"T_476a6_row0_col6\" class=\"data row0 col6\" >-2.422839</td>\n            </tr>\n            <tr>\n                        <th id=\"T_476a6_level0_row1\" class=\"row_heading level0 row1\" >1</th>\n                        <td id=\"T_476a6_row1_col0\" class=\"data row1 col0\" >3</td>\n                        <td id=\"T_476a6_row1_col1\" class=\"data row1 col1\" >3</td>\n                        <td id=\"T_476a6_row1_col2\" class=\"data row1 col2\" >Losers</td>\n                        <td id=\"T_476a6_row1_col3\" class=\"data row1 col3\" >-0.090125</td>\n                        <td id=\"T_476a6_row1_col4\" class=\"data row1 col4\" >0.139746</td>\n                        <td id=\"T_476a6_row1_col5\" class=\"data row1 col5\" >0.000002</td>\n                        <td id=\"T_476a6_row1_col6\" class=\"data row1 col6\" >-5.239352</td>\n            </tr>\n            <tr>\n                        <th id=\"T_476a6_level0_row2\" class=\"row_heading level0 row2\" >2</th>\n                        <td id=\"T_476a6_row2_col0\" class=\"data row2 col0\" >3</td>\n                        <td id=\"T_476a6_row2_col1\" class=\"data row2 col1\" >3</td>\n                        <td id=\"T_476a6_row2_col2\" class=\"data row2 col2\" >Winners_minus_Losers</td>\n                        <td id=\"T_476a6_row2_col3\" class=\"data row2 col3\" >-0.055851</td>\n                        <td id=\"T_476a6_row2_col4\" class=\"data row2 col4\" >0.077511</td>\n                        <td id=\"T_476a6_row2_col5\" class=\"data row2 col5\" >0.000000</td>\n                        <td id=\"T_476a6_row2_col6\" class=\"data row2 col6\" >-5.853895</td>\n            </tr>\n            <tr>\n                        <th id=\"T_476a6_level0_row3\" class=\"row_heading level0 row3\" >6</th>\n                        <td id=\"T_476a6_row3_col0\" class=\"data row3 col0\" >3</td>\n                        <td id=\"T_476a6_row3_col1\" class=\"data row3 col1\" >6</td>\n                        <td id=\"T_476a6_row3_col2\" class=\"data row3 col2\" >Winners</td>\n                        <td id=\"T_476a6_row3_col3\" class=\"data row3 col3\" >-0.003570</td>\n                        <td id=\"T_476a6_row3_col4\" class=\"data row3 col4\" >0.137994</td>\n                        <td id=\"T_476a6_row3_col5\" class=\"data row3 col5\" >0.837970</td>\n                        <td id=\"T_476a6_row3_col6\" class=\"data row3 col6\" >-0.205351</td>\n            </tr>\n            <tr>\n                        <th id=\"T_476a6_level0_row4\" class=\"row_heading level0 row4\" >7</th>\n                        <td id=\"T_476a6_row4_col0\" class=\"data row4 col0\" >3</td>\n                        <td id=\"T_476a6_row4_col1\" class=\"data row4 col1\" >6</td>\n                        <td id=\"T_476a6_row4_col2\" class=\"data row4 col2\" >Losers</td>\n                        <td id=\"T_476a6_row4_col3\" class=\"data row4 col3\" >-0.092464</td>\n                        <td id=\"T_476a6_row4_col4\" class=\"data row4 col4\" >0.161719</td>\n                        <td id=\"T_476a6_row4_col5\" class=\"data row4 col5\" >0.000027</td>\n                        <td id=\"T_476a6_row4_col6\" class=\"data row4 col6\" >-4.538176</td>\n            </tr>\n            <tr>\n                        <th id=\"T_476a6_level0_row5\" class=\"row_heading level0 row5\" >8</th>\n                        <td id=\"T_476a6_row5_col0\" class=\"data row5 col0\" >3</td>\n                        <td id=\"T_476a6_row5_col1\" class=\"data row5 col1\" >6</td>\n                        <td id=\"T_476a6_row5_col2\" class=\"data row5 col2\" >Winners_minus_Losers</td>\n                        <td id=\"T_476a6_row5_col3\" class=\"data row5 col3\" >-0.041493</td>\n                        <td id=\"T_476a6_row5_col4\" class=\"data row5 col4\" >0.085580</td>\n                        <td id=\"T_476a6_row5_col5\" class=\"data row5 col5\" >0.000284</td>\n                        <td id=\"T_476a6_row5_col6\" class=\"data row5 col6\" >-3.848302</td>\n            </tr>\n            <tr>\n                        <th id=\"T_476a6_level0_row6\" class=\"row_heading level0 row6\" >3</th>\n                        <td id=\"T_476a6_row6_col0\" class=\"data row6 col0\" >6</td>\n                        <td id=\"T_476a6_row6_col1\" class=\"data row6 col1\" >3</td>\n                        <td id=\"T_476a6_row6_col2\" class=\"data row6 col2\" >Winners</td>\n                        <td id=\"T_476a6_row6_col3\" class=\"data row6 col3\" >-0.018114</td>\n                        <td id=\"T_476a6_row6_col4\" class=\"data row6 col4\" >0.108146</td>\n                        <td id=\"T_476a6_row6_col5\" class=\"data row6 col5\" >0.188562</td>\n                        <td id=\"T_476a6_row6_col6\" class=\"data row6 col6\" >-1.329477</td>\n            </tr>\n            <tr>\n                        <th id=\"T_476a6_level0_row7\" class=\"row_heading level0 row7\" >4</th>\n                        <td id=\"T_476a6_row7_col0\" class=\"data row7 col0\" >6</td>\n                        <td id=\"T_476a6_row7_col1\" class=\"data row7 col1\" >3</td>\n                        <td id=\"T_476a6_row7_col2\" class=\"data row7 col2\" >Losers</td>\n                        <td id=\"T_476a6_row7_col3\" class=\"data row7 col3\" >-0.065292</td>\n                        <td id=\"T_476a6_row7_col4\" class=\"data row7 col4\" >0.099903</td>\n                        <td id=\"T_476a6_row7_col5\" class=\"data row7 col5\" >0.000002</td>\n                        <td id=\"T_476a6_row7_col6\" class=\"data row7 col6\" >-5.187423</td>\n            </tr>\n            <tr>\n                        <th id=\"T_476a6_level0_row8\" class=\"row_heading level0 row8\" >5</th>\n                        <td id=\"T_476a6_row8_col0\" class=\"data row8 col0\" >6</td>\n                        <td id=\"T_476a6_row8_col1\" class=\"data row8 col1\" >3</td>\n                        <td id=\"T_476a6_row8_col2\" class=\"data row8 col2\" >Winners_minus_Losers</td>\n                        <td id=\"T_476a6_row8_col3\" class=\"data row8 col3\" >-0.038401</td>\n                        <td id=\"T_476a6_row8_col4\" class=\"data row8 col4\" >0.065872</td>\n                        <td id=\"T_476a6_row8_col5\" class=\"data row8 col5\" >0.000019</td>\n                        <td id=\"T_476a6_row8_col6\" class=\"data row8 col6\" >-4.627217</td>\n            </tr>\n            <tr>\n                        <th id=\"T_476a6_level0_row9\" class=\"row_heading level0 row9\" >9</th>\n                        <td id=\"T_476a6_row9_col0\" class=\"data row9 col0\" >6</td>\n                        <td id=\"T_476a6_row9_col1\" class=\"data row9 col1\" >6</td>\n                        <td id=\"T_476a6_row9_col2\" class=\"data row9 col2\" >Winners</td>\n                        <td id=\"T_476a6_row9_col3\" class=\"data row9 col3\" >-0.005901</td>\n                        <td id=\"T_476a6_row9_col4\" class=\"data row9 col4\" >0.132853</td>\n                        <td id=\"T_476a6_row9_col5\" class=\"data row9 col5\" >0.732043</td>\n                        <td id=\"T_476a6_row9_col6\" class=\"data row9 col6\" >-0.344036</td>\n            </tr>\n            <tr>\n                        <th id=\"T_476a6_level0_row10\" class=\"row_heading level0 row10\" >10</th>\n                        <td id=\"T_476a6_row10_col0\" class=\"data row10 col0\" >6</td>\n                        <td id=\"T_476a6_row10_col1\" class=\"data row10 col1\" >6</td>\n                        <td id=\"T_476a6_row10_col2\" class=\"data row10 col2\" >Losers</td>\n                        <td id=\"T_476a6_row10_col3\" class=\"data row10 col3\" >-0.084735</td>\n                        <td id=\"T_476a6_row10_col4\" class=\"data row10 col4\" >0.148587</td>\n                        <td id=\"T_476a6_row10_col5\" class=\"data row10 col5\" >0.000043</td>\n                        <td id=\"T_476a6_row10_col6\" class=\"data row10 col6\" >-4.417327</td>\n            </tr>\n            <tr>\n                        <th id=\"T_476a6_level0_row11\" class=\"row_heading level0 row11\" >11</th>\n                        <td id=\"T_476a6_row11_col0\" class=\"data row11 col0\" >6</td>\n                        <td id=\"T_476a6_row11_col1\" class=\"data row11 col1\" >6</td>\n                        <td id=\"T_476a6_row11_col2\" class=\"data row11 col2\" >Winners_minus_Losers</td>\n                        <td id=\"T_476a6_row11_col3\" class=\"data row11 col3\" >-0.040077</td>\n                        <td id=\"T_476a6_row11_col4\" class=\"data row11 col4\" >0.077437</td>\n                        <td id=\"T_476a6_row11_col5\" class=\"data row11 col5\" >0.000174</td>\n                        <td id=\"T_476a6_row11_col6\" class=\"data row11 col6\" >-4.008862</td>\n            </tr>\n            <tr>\n                        <th id=\"T_476a6_level0_row12\" class=\"row_heading level0 row12\" >12</th>\n                        <td id=\"T_476a6_row12_col0\" class=\"data row12 col0\" >6</td>\n                        <td id=\"T_476a6_row12_col1\" class=\"data row12 col1\" >9</td>\n                        <td id=\"T_476a6_row12_col2\" class=\"data row12 col2\" >Winners</td>\n                        <td id=\"T_476a6_row12_col3\" class=\"data row12 col3\" >-0.007125</td>\n                        <td id=\"T_476a6_row12_col4\" class=\"data row12 col4\" >0.155667</td>\n                        <td id=\"T_476a6_row12_col5\" class=\"data row12 col5\" >0.730962</td>\n                        <td id=\"T_476a6_row12_col6\" class=\"data row12 col6\" >-0.345568</td>\n            </tr>\n            <tr>\n                        <th id=\"T_476a6_level0_row13\" class=\"row_heading level0 row13\" >13</th>\n                        <td id=\"T_476a6_row13_col0\" class=\"data row13 col0\" >6</td>\n                        <td id=\"T_476a6_row13_col1\" class=\"data row13 col1\" >9</td>\n                        <td id=\"T_476a6_row13_col2\" class=\"data row13 col2\" >Losers</td>\n                        <td id=\"T_476a6_row13_col3\" class=\"data row13 col3\" >-0.110794</td>\n                        <td id=\"T_476a6_row13_col4\" class=\"data row13 col4\" >0.191930</td>\n                        <td id=\"T_476a6_row13_col5\" class=\"data row13 col5\" >0.000057</td>\n                        <td id=\"T_476a6_row13_col6\" class=\"data row13 col6\" >-4.358225</td>\n            </tr>\n            <tr>\n                        <th id=\"T_476a6_level0_row14\" class=\"row_heading level0 row14\" >14</th>\n                        <td id=\"T_476a6_row14_col0\" class=\"data row14 col0\" >6</td>\n                        <td id=\"T_476a6_row14_col1\" class=\"data row14 col1\" >9</td>\n                        <td id=\"T_476a6_row14_col2\" class=\"data row14 col2\" >Winners_minus_Losers</td>\n                        <td id=\"T_476a6_row14_col3\" class=\"data row14 col3\" >-0.050998</td>\n                        <td id=\"T_476a6_row14_col4\" class=\"data row14 col4\" >0.085527</td>\n                        <td id=\"T_476a6_row14_col5\" class=\"data row14 col5\" >0.000035</td>\n                        <td id=\"T_476a6_row14_col6\" class=\"data row14 col6\" >-4.501825</td>\n            </tr>\n            <tr>\n                        <th id=\"T_476a6_level0_row15\" class=\"row_heading level0 row15\" >15</th>\n                        <td id=\"T_476a6_row15_col0\" class=\"data row15 col0\" >9</td>\n                        <td id=\"T_476a6_row15_col1\" class=\"data row15 col1\" >6</td>\n                        <td id=\"T_476a6_row15_col2\" class=\"data row15 col2\" >Winners</td>\n                        <td id=\"T_476a6_row15_col3\" class=\"data row15 col3\" >-0.018595</td>\n                        <td id=\"T_476a6_row15_col4\" class=\"data row15 col4\" >0.108540</td>\n                        <td id=\"T_476a6_row15_col5\" class=\"data row15 col5\" >0.201182</td>\n                        <td id=\"T_476a6_row15_col6\" class=\"data row15 col6\" >-1.293403</td>\n            </tr>\n            <tr>\n                        <th id=\"T_476a6_level0_row16\" class=\"row_heading level0 row16\" >16</th>\n                        <td id=\"T_476a6_row16_col0\" class=\"data row16 col0\" >9</td>\n                        <td id=\"T_476a6_row16_col1\" class=\"data row16 col1\" >6</td>\n                        <td id=\"T_476a6_row16_col2\" class=\"data row16 col2\" >Losers</td>\n                        <td id=\"T_476a6_row16_col3\" class=\"data row16 col3\" >-0.085922</td>\n                        <td id=\"T_476a6_row16_col4\" class=\"data row16 col4\" >0.180657</td>\n                        <td id=\"T_476a6_row16_col5\" class=\"data row16 col5\" >0.000695</td>\n                        <td id=\"T_476a6_row16_col6\" class=\"data row16 col6\" >-3.590785</td>\n            </tr>\n            <tr>\n                        <th id=\"T_476a6_level0_row17\" class=\"row_heading level0 row17\" >17</th>\n                        <td id=\"T_476a6_row17_col0\" class=\"data row17 col0\" >9</td>\n                        <td id=\"T_476a6_row17_col1\" class=\"data row17 col1\" >6</td>\n                        <td id=\"T_476a6_row17_col2\" class=\"data row17 col2\" >Winners_minus_Losers</td>\n                        <td id=\"T_476a6_row17_col3\" class=\"data row17 col3\" >-0.045699</td>\n                        <td id=\"T_476a6_row17_col4\" class=\"data row17 col4\" >0.068242</td>\n                        <td id=\"T_476a6_row17_col5\" class=\"data row17 col5\" >0.000005</td>\n                        <td id=\"T_476a6_row17_col6\" class=\"data row17 col6\" >-5.055866</td>\n            </tr>\n    </tbody></table>"
     },
     "metadata": {},
     "execution_count": 53
    }
   ],
   "source": [
    "display_test_res(hose_test_res_15_20)"
   ]
  },
  {
   "source": [
    "### Repeating the exercise with 2020 left out"
   ],
   "cell_type": "markdown",
   "metadata": {}
  },
  {
   "cell_type": "code",
   "execution_count": 38,
   "metadata": {},
   "outputs": [
    {
     "output_type": "execute_result",
     "data": {
      "text/plain": [
       "    Preform  Hold              Strategy  Mean Returns  Stdev. Returns  \\\n",
       "0         3     3               Winners     -0.045791        0.081006   \n",
       "1         3     3                Losers     -0.098844        0.125722   \n",
       "2         3     3  Winners_minus_Losers     -0.065220        0.076003   \n",
       "3         6     3               Winners     -0.041002        0.050600   \n",
       "4         6     3                Losers     -0.075955        0.121800   \n",
       "5         6     3  Winners_minus_Losers     -0.053458        0.058021   \n",
       "6         3     6               Winners     -0.043832        0.064431   \n",
       "7         3     6                Losers     -0.072414        0.146787   \n",
       "8         3     6  Winners_minus_Losers     -0.052114        0.068350   \n",
       "9         6     6               Winners     -0.038336        0.056237   \n",
       "10        6     6                Losers     -0.109493        0.159957   \n",
       "11        6     6  Winners_minus_Losers     -0.065212        0.074429   \n",
       "12        6     9               Winners     -0.040666        0.061038   \n",
       "13        6     9                Losers     -0.142015        0.170137   \n",
       "14        6     9  Winners_minus_Losers     -0.080355        0.075269   \n",
       "15        9     6               Winners     -0.014077        0.045263   \n",
       "16        9     6                Losers     -0.118554        0.174490   \n",
       "17        9     6  Winners_minus_Losers     -0.057136        0.076926   \n",
       "\n",
       "     p-value    t-stat  \n",
       "0   0.028224 -2.398288  \n",
       "1   0.003917 -3.335621  \n",
       "2   0.002022 -3.640702  \n",
       "3   0.007258 -3.138362  \n",
       "4   0.029982 -2.415207  \n",
       "5   0.003086 -3.568390  \n",
       "6   0.019603 -2.634767  \n",
       "7   0.076746 -1.910657  \n",
       "8   0.010484 -2.952951  \n",
       "9   0.037719 -2.361418  \n",
       "10  0.037071 -2.371231  \n",
       "11  0.011346 -3.035082  \n",
       "12  0.080679 -1.998696  \n",
       "13  0.036705 -2.504131  \n",
       "14  0.012561 -3.202703  \n",
       "15  0.378096 -0.933047  \n",
       "16  0.075873 -2.038305  \n",
       "17  0.056452 -2.228233  "
      ],
      "text/html": "<div>\n<style scoped>\n    .dataframe tbody tr th:only-of-type {\n        vertical-align: middle;\n    }\n\n    .dataframe tbody tr th {\n        vertical-align: top;\n    }\n\n    .dataframe thead th {\n        text-align: right;\n    }\n</style>\n<table border=\"1\" class=\"dataframe\">\n  <thead>\n    <tr style=\"text-align: right;\">\n      <th></th>\n      <th>Preform</th>\n      <th>Hold</th>\n      <th>Strategy</th>\n      <th>Mean Returns</th>\n      <th>Stdev. Returns</th>\n      <th>p-value</th>\n      <th>t-stat</th>\n    </tr>\n  </thead>\n  <tbody>\n    <tr>\n      <th>0</th>\n      <td>3</td>\n      <td>3</td>\n      <td>Winners</td>\n      <td>-0.045791</td>\n      <td>0.081006</td>\n      <td>0.028224</td>\n      <td>-2.398288</td>\n    </tr>\n    <tr>\n      <th>1</th>\n      <td>3</td>\n      <td>3</td>\n      <td>Losers</td>\n      <td>-0.098844</td>\n      <td>0.125722</td>\n      <td>0.003917</td>\n      <td>-3.335621</td>\n    </tr>\n    <tr>\n      <th>2</th>\n      <td>3</td>\n      <td>3</td>\n      <td>Winners_minus_Losers</td>\n      <td>-0.065220</td>\n      <td>0.076003</td>\n      <td>0.002022</td>\n      <td>-3.640702</td>\n    </tr>\n    <tr>\n      <th>3</th>\n      <td>6</td>\n      <td>3</td>\n      <td>Winners</td>\n      <td>-0.041002</td>\n      <td>0.050600</td>\n      <td>0.007258</td>\n      <td>-3.138362</td>\n    </tr>\n    <tr>\n      <th>4</th>\n      <td>6</td>\n      <td>3</td>\n      <td>Losers</td>\n      <td>-0.075955</td>\n      <td>0.121800</td>\n      <td>0.029982</td>\n      <td>-2.415207</td>\n    </tr>\n    <tr>\n      <th>5</th>\n      <td>6</td>\n      <td>3</td>\n      <td>Winners_minus_Losers</td>\n      <td>-0.053458</td>\n      <td>0.058021</td>\n      <td>0.003086</td>\n      <td>-3.568390</td>\n    </tr>\n    <tr>\n      <th>6</th>\n      <td>3</td>\n      <td>6</td>\n      <td>Winners</td>\n      <td>-0.043832</td>\n      <td>0.064431</td>\n      <td>0.019603</td>\n      <td>-2.634767</td>\n    </tr>\n    <tr>\n      <th>7</th>\n      <td>3</td>\n      <td>6</td>\n      <td>Losers</td>\n      <td>-0.072414</td>\n      <td>0.146787</td>\n      <td>0.076746</td>\n      <td>-1.910657</td>\n    </tr>\n    <tr>\n      <th>8</th>\n      <td>3</td>\n      <td>6</td>\n      <td>Winners_minus_Losers</td>\n      <td>-0.052114</td>\n      <td>0.068350</td>\n      <td>0.010484</td>\n      <td>-2.952951</td>\n    </tr>\n    <tr>\n      <th>9</th>\n      <td>6</td>\n      <td>6</td>\n      <td>Winners</td>\n      <td>-0.038336</td>\n      <td>0.056237</td>\n      <td>0.037719</td>\n      <td>-2.361418</td>\n    </tr>\n    <tr>\n      <th>10</th>\n      <td>6</td>\n      <td>6</td>\n      <td>Losers</td>\n      <td>-0.109493</td>\n      <td>0.159957</td>\n      <td>0.037071</td>\n      <td>-2.371231</td>\n    </tr>\n    <tr>\n      <th>11</th>\n      <td>6</td>\n      <td>6</td>\n      <td>Winners_minus_Losers</td>\n      <td>-0.065212</td>\n      <td>0.074429</td>\n      <td>0.011346</td>\n      <td>-3.035082</td>\n    </tr>\n    <tr>\n      <th>12</th>\n      <td>6</td>\n      <td>9</td>\n      <td>Winners</td>\n      <td>-0.040666</td>\n      <td>0.061038</td>\n      <td>0.080679</td>\n      <td>-1.998696</td>\n    </tr>\n    <tr>\n      <th>13</th>\n      <td>6</td>\n      <td>9</td>\n      <td>Losers</td>\n      <td>-0.142015</td>\n      <td>0.170137</td>\n      <td>0.036705</td>\n      <td>-2.504131</td>\n    </tr>\n    <tr>\n      <th>14</th>\n      <td>6</td>\n      <td>9</td>\n      <td>Winners_minus_Losers</td>\n      <td>-0.080355</td>\n      <td>0.075269</td>\n      <td>0.012561</td>\n      <td>-3.202703</td>\n    </tr>\n    <tr>\n      <th>15</th>\n      <td>9</td>\n      <td>6</td>\n      <td>Winners</td>\n      <td>-0.014077</td>\n      <td>0.045263</td>\n      <td>0.378096</td>\n      <td>-0.933047</td>\n    </tr>\n    <tr>\n      <th>16</th>\n      <td>9</td>\n      <td>6</td>\n      <td>Losers</td>\n      <td>-0.118554</td>\n      <td>0.174490</td>\n      <td>0.075873</td>\n      <td>-2.038305</td>\n    </tr>\n    <tr>\n      <th>17</th>\n      <td>9</td>\n      <td>6</td>\n      <td>Winners_minus_Losers</td>\n      <td>-0.057136</td>\n      <td>0.076926</td>\n      <td>0.056452</td>\n      <td>-2.228233</td>\n    </tr>\n  </tbody>\n</table>\n</div>"
     },
     "metadata": {},
     "execution_count": 38
    }
   ],
   "source": [
    "hnx_test_res_15_19  =  calculate_t_test(hnx_trades_15_20[hnx_trades_15_20[\"Date\"] <= \"2020-12-31\"])\n",
    "hose_test_res_15_19  =  calculate_t_test(hose_trades_15_20[hose_trades_15_20[\"Date\"] <= \"2020-12-31\"])"
   ]
  },
  {
   "cell_type": "code",
   "execution_count": 54,
   "metadata": {},
   "outputs": [
    {
     "output_type": "execute_result",
     "data": {
      "text/plain": [
       "<pandas.io.formats.style.Styler at 0x120a9c6d0>"
      ],
      "text/html": "<style  type=\"text/css\" >\n#T_c7efa_row0_col5,#T_c7efa_row1_col5,#T_c7efa_row2_col5,#T_c7efa_row3_col5,#T_c7efa_row5_col5,#T_c7efa_row6_col5,#T_c7efa_row7_col5,#T_c7efa_row8_col5,#T_c7efa_row9_col5,#T_c7efa_row10_col5,#T_c7efa_row11_col5,#T_c7efa_row13_col5,#T_c7efa_row14_col5{\n            background-color:  yellow;\n        }</style><table id=\"T_c7efa_\" ><thead>    <tr>        <th class=\"blank level0\" ></th>        <th class=\"col_heading level0 col0\" >Preform</th>        <th class=\"col_heading level0 col1\" >Hold</th>        <th class=\"col_heading level0 col2\" >Strategy</th>        <th class=\"col_heading level0 col3\" >Mean Returns</th>        <th class=\"col_heading level0 col4\" >Stdev. Returns</th>        <th class=\"col_heading level0 col5\" >p-value</th>        <th class=\"col_heading level0 col6\" >t-stat</th>    </tr></thead><tbody>\n                <tr>\n                        <th id=\"T_c7efa_level0_row0\" class=\"row_heading level0 row0\" >0</th>\n                        <td id=\"T_c7efa_row0_col0\" class=\"data row0 col0\" >3</td>\n                        <td id=\"T_c7efa_row0_col1\" class=\"data row0 col1\" >3</td>\n                        <td id=\"T_c7efa_row0_col2\" class=\"data row0 col2\" >Winners</td>\n                        <td id=\"T_c7efa_row0_col3\" class=\"data row0 col3\" >-0.045791</td>\n                        <td id=\"T_c7efa_row0_col4\" class=\"data row0 col4\" >0.081006</td>\n                        <td id=\"T_c7efa_row0_col5\" class=\"data row0 col5\" >0.028224</td>\n                        <td id=\"T_c7efa_row0_col6\" class=\"data row0 col6\" >-2.398288</td>\n            </tr>\n            <tr>\n                        <th id=\"T_c7efa_level0_row1\" class=\"row_heading level0 row1\" >1</th>\n                        <td id=\"T_c7efa_row1_col0\" class=\"data row1 col0\" >3</td>\n                        <td id=\"T_c7efa_row1_col1\" class=\"data row1 col1\" >3</td>\n                        <td id=\"T_c7efa_row1_col2\" class=\"data row1 col2\" >Losers</td>\n                        <td id=\"T_c7efa_row1_col3\" class=\"data row1 col3\" >-0.098844</td>\n                        <td id=\"T_c7efa_row1_col4\" class=\"data row1 col4\" >0.125722</td>\n                        <td id=\"T_c7efa_row1_col5\" class=\"data row1 col5\" >0.003917</td>\n                        <td id=\"T_c7efa_row1_col6\" class=\"data row1 col6\" >-3.335621</td>\n            </tr>\n            <tr>\n                        <th id=\"T_c7efa_level0_row2\" class=\"row_heading level0 row2\" >2</th>\n                        <td id=\"T_c7efa_row2_col0\" class=\"data row2 col0\" >3</td>\n                        <td id=\"T_c7efa_row2_col1\" class=\"data row2 col1\" >3</td>\n                        <td id=\"T_c7efa_row2_col2\" class=\"data row2 col2\" >Winners_minus_Losers</td>\n                        <td id=\"T_c7efa_row2_col3\" class=\"data row2 col3\" >-0.065220</td>\n                        <td id=\"T_c7efa_row2_col4\" class=\"data row2 col4\" >0.076003</td>\n                        <td id=\"T_c7efa_row2_col5\" class=\"data row2 col5\" >0.002022</td>\n                        <td id=\"T_c7efa_row2_col6\" class=\"data row2 col6\" >-3.640702</td>\n            </tr>\n            <tr>\n                        <th id=\"T_c7efa_level0_row3\" class=\"row_heading level0 row3\" >6</th>\n                        <td id=\"T_c7efa_row3_col0\" class=\"data row3 col0\" >3</td>\n                        <td id=\"T_c7efa_row3_col1\" class=\"data row3 col1\" >6</td>\n                        <td id=\"T_c7efa_row3_col2\" class=\"data row3 col2\" >Winners</td>\n                        <td id=\"T_c7efa_row3_col3\" class=\"data row3 col3\" >-0.043832</td>\n                        <td id=\"T_c7efa_row3_col4\" class=\"data row3 col4\" >0.064431</td>\n                        <td id=\"T_c7efa_row3_col5\" class=\"data row3 col5\" >0.019603</td>\n                        <td id=\"T_c7efa_row3_col6\" class=\"data row3 col6\" >-2.634767</td>\n            </tr>\n            <tr>\n                        <th id=\"T_c7efa_level0_row4\" class=\"row_heading level0 row4\" >7</th>\n                        <td id=\"T_c7efa_row4_col0\" class=\"data row4 col0\" >3</td>\n                        <td id=\"T_c7efa_row4_col1\" class=\"data row4 col1\" >6</td>\n                        <td id=\"T_c7efa_row4_col2\" class=\"data row4 col2\" >Losers</td>\n                        <td id=\"T_c7efa_row4_col3\" class=\"data row4 col3\" >-0.072414</td>\n                        <td id=\"T_c7efa_row4_col4\" class=\"data row4 col4\" >0.146787</td>\n                        <td id=\"T_c7efa_row4_col5\" class=\"data row4 col5\" >0.076746</td>\n                        <td id=\"T_c7efa_row4_col6\" class=\"data row4 col6\" >-1.910657</td>\n            </tr>\n            <tr>\n                        <th id=\"T_c7efa_level0_row5\" class=\"row_heading level0 row5\" >8</th>\n                        <td id=\"T_c7efa_row5_col0\" class=\"data row5 col0\" >3</td>\n                        <td id=\"T_c7efa_row5_col1\" class=\"data row5 col1\" >6</td>\n                        <td id=\"T_c7efa_row5_col2\" class=\"data row5 col2\" >Winners_minus_Losers</td>\n                        <td id=\"T_c7efa_row5_col3\" class=\"data row5 col3\" >-0.052114</td>\n                        <td id=\"T_c7efa_row5_col4\" class=\"data row5 col4\" >0.068350</td>\n                        <td id=\"T_c7efa_row5_col5\" class=\"data row5 col5\" >0.010484</td>\n                        <td id=\"T_c7efa_row5_col6\" class=\"data row5 col6\" >-2.952951</td>\n            </tr>\n            <tr>\n                        <th id=\"T_c7efa_level0_row6\" class=\"row_heading level0 row6\" >3</th>\n                        <td id=\"T_c7efa_row6_col0\" class=\"data row6 col0\" >6</td>\n                        <td id=\"T_c7efa_row6_col1\" class=\"data row6 col1\" >3</td>\n                        <td id=\"T_c7efa_row6_col2\" class=\"data row6 col2\" >Winners</td>\n                        <td id=\"T_c7efa_row6_col3\" class=\"data row6 col3\" >-0.041002</td>\n                        <td id=\"T_c7efa_row6_col4\" class=\"data row6 col4\" >0.050600</td>\n                        <td id=\"T_c7efa_row6_col5\" class=\"data row6 col5\" >0.007258</td>\n                        <td id=\"T_c7efa_row6_col6\" class=\"data row6 col6\" >-3.138362</td>\n            </tr>\n            <tr>\n                        <th id=\"T_c7efa_level0_row7\" class=\"row_heading level0 row7\" >4</th>\n                        <td id=\"T_c7efa_row7_col0\" class=\"data row7 col0\" >6</td>\n                        <td id=\"T_c7efa_row7_col1\" class=\"data row7 col1\" >3</td>\n                        <td id=\"T_c7efa_row7_col2\" class=\"data row7 col2\" >Losers</td>\n                        <td id=\"T_c7efa_row7_col3\" class=\"data row7 col3\" >-0.075955</td>\n                        <td id=\"T_c7efa_row7_col4\" class=\"data row7 col4\" >0.121800</td>\n                        <td id=\"T_c7efa_row7_col5\" class=\"data row7 col5\" >0.029982</td>\n                        <td id=\"T_c7efa_row7_col6\" class=\"data row7 col6\" >-2.415207</td>\n            </tr>\n            <tr>\n                        <th id=\"T_c7efa_level0_row8\" class=\"row_heading level0 row8\" >5</th>\n                        <td id=\"T_c7efa_row8_col0\" class=\"data row8 col0\" >6</td>\n                        <td id=\"T_c7efa_row8_col1\" class=\"data row8 col1\" >3</td>\n                        <td id=\"T_c7efa_row8_col2\" class=\"data row8 col2\" >Winners_minus_Losers</td>\n                        <td id=\"T_c7efa_row8_col3\" class=\"data row8 col3\" >-0.053458</td>\n                        <td id=\"T_c7efa_row8_col4\" class=\"data row8 col4\" >0.058021</td>\n                        <td id=\"T_c7efa_row8_col5\" class=\"data row8 col5\" >0.003086</td>\n                        <td id=\"T_c7efa_row8_col6\" class=\"data row8 col6\" >-3.568390</td>\n            </tr>\n            <tr>\n                        <th id=\"T_c7efa_level0_row9\" class=\"row_heading level0 row9\" >9</th>\n                        <td id=\"T_c7efa_row9_col0\" class=\"data row9 col0\" >6</td>\n                        <td id=\"T_c7efa_row9_col1\" class=\"data row9 col1\" >6</td>\n                        <td id=\"T_c7efa_row9_col2\" class=\"data row9 col2\" >Winners</td>\n                        <td id=\"T_c7efa_row9_col3\" class=\"data row9 col3\" >-0.038336</td>\n                        <td id=\"T_c7efa_row9_col4\" class=\"data row9 col4\" >0.056237</td>\n                        <td id=\"T_c7efa_row9_col5\" class=\"data row9 col5\" >0.037719</td>\n                        <td id=\"T_c7efa_row9_col6\" class=\"data row9 col6\" >-2.361418</td>\n            </tr>\n            <tr>\n                        <th id=\"T_c7efa_level0_row10\" class=\"row_heading level0 row10\" >10</th>\n                        <td id=\"T_c7efa_row10_col0\" class=\"data row10 col0\" >6</td>\n                        <td id=\"T_c7efa_row10_col1\" class=\"data row10 col1\" >6</td>\n                        <td id=\"T_c7efa_row10_col2\" class=\"data row10 col2\" >Losers</td>\n                        <td id=\"T_c7efa_row10_col3\" class=\"data row10 col3\" >-0.109493</td>\n                        <td id=\"T_c7efa_row10_col4\" class=\"data row10 col4\" >0.159957</td>\n                        <td id=\"T_c7efa_row10_col5\" class=\"data row10 col5\" >0.037071</td>\n                        <td id=\"T_c7efa_row10_col6\" class=\"data row10 col6\" >-2.371231</td>\n            </tr>\n            <tr>\n                        <th id=\"T_c7efa_level0_row11\" class=\"row_heading level0 row11\" >11</th>\n                        <td id=\"T_c7efa_row11_col0\" class=\"data row11 col0\" >6</td>\n                        <td id=\"T_c7efa_row11_col1\" class=\"data row11 col1\" >6</td>\n                        <td id=\"T_c7efa_row11_col2\" class=\"data row11 col2\" >Winners_minus_Losers</td>\n                        <td id=\"T_c7efa_row11_col3\" class=\"data row11 col3\" >-0.065212</td>\n                        <td id=\"T_c7efa_row11_col4\" class=\"data row11 col4\" >0.074429</td>\n                        <td id=\"T_c7efa_row11_col5\" class=\"data row11 col5\" >0.011346</td>\n                        <td id=\"T_c7efa_row11_col6\" class=\"data row11 col6\" >-3.035082</td>\n            </tr>\n            <tr>\n                        <th id=\"T_c7efa_level0_row12\" class=\"row_heading level0 row12\" >12</th>\n                        <td id=\"T_c7efa_row12_col0\" class=\"data row12 col0\" >6</td>\n                        <td id=\"T_c7efa_row12_col1\" class=\"data row12 col1\" >9</td>\n                        <td id=\"T_c7efa_row12_col2\" class=\"data row12 col2\" >Winners</td>\n                        <td id=\"T_c7efa_row12_col3\" class=\"data row12 col3\" >-0.040666</td>\n                        <td id=\"T_c7efa_row12_col4\" class=\"data row12 col4\" >0.061038</td>\n                        <td id=\"T_c7efa_row12_col5\" class=\"data row12 col5\" >0.080679</td>\n                        <td id=\"T_c7efa_row12_col6\" class=\"data row12 col6\" >-1.998696</td>\n            </tr>\n            <tr>\n                        <th id=\"T_c7efa_level0_row13\" class=\"row_heading level0 row13\" >13</th>\n                        <td id=\"T_c7efa_row13_col0\" class=\"data row13 col0\" >6</td>\n                        <td id=\"T_c7efa_row13_col1\" class=\"data row13 col1\" >9</td>\n                        <td id=\"T_c7efa_row13_col2\" class=\"data row13 col2\" >Losers</td>\n                        <td id=\"T_c7efa_row13_col3\" class=\"data row13 col3\" >-0.142015</td>\n                        <td id=\"T_c7efa_row13_col4\" class=\"data row13 col4\" >0.170137</td>\n                        <td id=\"T_c7efa_row13_col5\" class=\"data row13 col5\" >0.036705</td>\n                        <td id=\"T_c7efa_row13_col6\" class=\"data row13 col6\" >-2.504131</td>\n            </tr>\n            <tr>\n                        <th id=\"T_c7efa_level0_row14\" class=\"row_heading level0 row14\" >14</th>\n                        <td id=\"T_c7efa_row14_col0\" class=\"data row14 col0\" >6</td>\n                        <td id=\"T_c7efa_row14_col1\" class=\"data row14 col1\" >9</td>\n                        <td id=\"T_c7efa_row14_col2\" class=\"data row14 col2\" >Winners_minus_Losers</td>\n                        <td id=\"T_c7efa_row14_col3\" class=\"data row14 col3\" >-0.080355</td>\n                        <td id=\"T_c7efa_row14_col4\" class=\"data row14 col4\" >0.075269</td>\n                        <td id=\"T_c7efa_row14_col5\" class=\"data row14 col5\" >0.012561</td>\n                        <td id=\"T_c7efa_row14_col6\" class=\"data row14 col6\" >-3.202703</td>\n            </tr>\n            <tr>\n                        <th id=\"T_c7efa_level0_row15\" class=\"row_heading level0 row15\" >15</th>\n                        <td id=\"T_c7efa_row15_col0\" class=\"data row15 col0\" >9</td>\n                        <td id=\"T_c7efa_row15_col1\" class=\"data row15 col1\" >6</td>\n                        <td id=\"T_c7efa_row15_col2\" class=\"data row15 col2\" >Winners</td>\n                        <td id=\"T_c7efa_row15_col3\" class=\"data row15 col3\" >-0.014077</td>\n                        <td id=\"T_c7efa_row15_col4\" class=\"data row15 col4\" >0.045263</td>\n                        <td id=\"T_c7efa_row15_col5\" class=\"data row15 col5\" >0.378096</td>\n                        <td id=\"T_c7efa_row15_col6\" class=\"data row15 col6\" >-0.933047</td>\n            </tr>\n            <tr>\n                        <th id=\"T_c7efa_level0_row16\" class=\"row_heading level0 row16\" >16</th>\n                        <td id=\"T_c7efa_row16_col0\" class=\"data row16 col0\" >9</td>\n                        <td id=\"T_c7efa_row16_col1\" class=\"data row16 col1\" >6</td>\n                        <td id=\"T_c7efa_row16_col2\" class=\"data row16 col2\" >Losers</td>\n                        <td id=\"T_c7efa_row16_col3\" class=\"data row16 col3\" >-0.118554</td>\n                        <td id=\"T_c7efa_row16_col4\" class=\"data row16 col4\" >0.174490</td>\n                        <td id=\"T_c7efa_row16_col5\" class=\"data row16 col5\" >0.075873</td>\n                        <td id=\"T_c7efa_row16_col6\" class=\"data row16 col6\" >-2.038305</td>\n            </tr>\n            <tr>\n                        <th id=\"T_c7efa_level0_row17\" class=\"row_heading level0 row17\" >17</th>\n                        <td id=\"T_c7efa_row17_col0\" class=\"data row17 col0\" >9</td>\n                        <td id=\"T_c7efa_row17_col1\" class=\"data row17 col1\" >6</td>\n                        <td id=\"T_c7efa_row17_col2\" class=\"data row17 col2\" >Winners_minus_Losers</td>\n                        <td id=\"T_c7efa_row17_col3\" class=\"data row17 col3\" >-0.057136</td>\n                        <td id=\"T_c7efa_row17_col4\" class=\"data row17 col4\" >0.076926</td>\n                        <td id=\"T_c7efa_row17_col5\" class=\"data row17 col5\" >0.056452</td>\n                        <td id=\"T_c7efa_row17_col6\" class=\"data row17 col6\" >-2.228233</td>\n            </tr>\n    </tbody></table>"
     },
     "metadata": {},
     "execution_count": 54
    }
   ],
   "source": [
    "display_test_res(hnx_test_res_15_19)"
   ]
  },
  {
   "cell_type": "code",
   "execution_count": 55,
   "metadata": {},
   "outputs": [
    {
     "output_type": "execute_result",
     "data": {
      "text/plain": [
       "<pandas.io.formats.style.Styler at 0x120a9c400>"
      ],
      "text/html": "<style  type=\"text/css\" >\n#T_98dce_row0_col5,#T_98dce_row1_col5,#T_98dce_row2_col5,#T_98dce_row4_col5,#T_98dce_row5_col5,#T_98dce_row7_col5,#T_98dce_row8_col5,#T_98dce_row10_col5,#T_98dce_row11_col5,#T_98dce_row13_col5,#T_98dce_row14_col5,#T_98dce_row16_col5,#T_98dce_row17_col5{\n            background-color:  yellow;\n        }</style><table id=\"T_98dce_\" ><thead>    <tr>        <th class=\"blank level0\" ></th>        <th class=\"col_heading level0 col0\" >Preform</th>        <th class=\"col_heading level0 col1\" >Hold</th>        <th class=\"col_heading level0 col2\" >Strategy</th>        <th class=\"col_heading level0 col3\" >Mean Returns</th>        <th class=\"col_heading level0 col4\" >Stdev. Returns</th>        <th class=\"col_heading level0 col5\" >p-value</th>        <th class=\"col_heading level0 col6\" >t-stat</th>    </tr></thead><tbody>\n                <tr>\n                        <th id=\"T_98dce_level0_row0\" class=\"row_heading level0 row0\" >0</th>\n                        <td id=\"T_98dce_row0_col0\" class=\"data row0 col0\" >3</td>\n                        <td id=\"T_98dce_row0_col1\" class=\"data row0 col1\" >3</td>\n                        <td id=\"T_98dce_row0_col2\" class=\"data row0 col2\" >Winners</td>\n                        <td id=\"T_98dce_row0_col3\" class=\"data row0 col3\" >-0.034362</td>\n                        <td id=\"T_98dce_row0_col4\" class=\"data row0 col4\" >0.115220</td>\n                        <td id=\"T_98dce_row0_col5\" class=\"data row0 col5\" >0.018195</td>\n                        <td id=\"T_98dce_row0_col6\" class=\"data row0 col6\" >-2.422839</td>\n            </tr>\n            <tr>\n                        <th id=\"T_98dce_level0_row1\" class=\"row_heading level0 row1\" >1</th>\n                        <td id=\"T_98dce_row1_col0\" class=\"data row1 col0\" >3</td>\n                        <td id=\"T_98dce_row1_col1\" class=\"data row1 col1\" >3</td>\n                        <td id=\"T_98dce_row1_col2\" class=\"data row1 col2\" >Losers</td>\n                        <td id=\"T_98dce_row1_col3\" class=\"data row1 col3\" >-0.090125</td>\n                        <td id=\"T_98dce_row1_col4\" class=\"data row1 col4\" >0.139746</td>\n                        <td id=\"T_98dce_row1_col5\" class=\"data row1 col5\" >0.000002</td>\n                        <td id=\"T_98dce_row1_col6\" class=\"data row1 col6\" >-5.239352</td>\n            </tr>\n            <tr>\n                        <th id=\"T_98dce_level0_row2\" class=\"row_heading level0 row2\" >2</th>\n                        <td id=\"T_98dce_row2_col0\" class=\"data row2 col0\" >3</td>\n                        <td id=\"T_98dce_row2_col1\" class=\"data row2 col1\" >3</td>\n                        <td id=\"T_98dce_row2_col2\" class=\"data row2 col2\" >Winners_minus_Losers</td>\n                        <td id=\"T_98dce_row2_col3\" class=\"data row2 col3\" >-0.055851</td>\n                        <td id=\"T_98dce_row2_col4\" class=\"data row2 col4\" >0.077511</td>\n                        <td id=\"T_98dce_row2_col5\" class=\"data row2 col5\" >0.000000</td>\n                        <td id=\"T_98dce_row2_col6\" class=\"data row2 col6\" >-5.853895</td>\n            </tr>\n            <tr>\n                        <th id=\"T_98dce_level0_row3\" class=\"row_heading level0 row3\" >6</th>\n                        <td id=\"T_98dce_row3_col0\" class=\"data row3 col0\" >3</td>\n                        <td id=\"T_98dce_row3_col1\" class=\"data row3 col1\" >6</td>\n                        <td id=\"T_98dce_row3_col2\" class=\"data row3 col2\" >Winners</td>\n                        <td id=\"T_98dce_row3_col3\" class=\"data row3 col3\" >-0.003570</td>\n                        <td id=\"T_98dce_row3_col4\" class=\"data row3 col4\" >0.137994</td>\n                        <td id=\"T_98dce_row3_col5\" class=\"data row3 col5\" >0.837970</td>\n                        <td id=\"T_98dce_row3_col6\" class=\"data row3 col6\" >-0.205351</td>\n            </tr>\n            <tr>\n                        <th id=\"T_98dce_level0_row4\" class=\"row_heading level0 row4\" >7</th>\n                        <td id=\"T_98dce_row4_col0\" class=\"data row4 col0\" >3</td>\n                        <td id=\"T_98dce_row4_col1\" class=\"data row4 col1\" >6</td>\n                        <td id=\"T_98dce_row4_col2\" class=\"data row4 col2\" >Losers</td>\n                        <td id=\"T_98dce_row4_col3\" class=\"data row4 col3\" >-0.092464</td>\n                        <td id=\"T_98dce_row4_col4\" class=\"data row4 col4\" >0.161719</td>\n                        <td id=\"T_98dce_row4_col5\" class=\"data row4 col5\" >0.000027</td>\n                        <td id=\"T_98dce_row4_col6\" class=\"data row4 col6\" >-4.538176</td>\n            </tr>\n            <tr>\n                        <th id=\"T_98dce_level0_row5\" class=\"row_heading level0 row5\" >8</th>\n                        <td id=\"T_98dce_row5_col0\" class=\"data row5 col0\" >3</td>\n                        <td id=\"T_98dce_row5_col1\" class=\"data row5 col1\" >6</td>\n                        <td id=\"T_98dce_row5_col2\" class=\"data row5 col2\" >Winners_minus_Losers</td>\n                        <td id=\"T_98dce_row5_col3\" class=\"data row5 col3\" >-0.041493</td>\n                        <td id=\"T_98dce_row5_col4\" class=\"data row5 col4\" >0.085580</td>\n                        <td id=\"T_98dce_row5_col5\" class=\"data row5 col5\" >0.000284</td>\n                        <td id=\"T_98dce_row5_col6\" class=\"data row5 col6\" >-3.848302</td>\n            </tr>\n            <tr>\n                        <th id=\"T_98dce_level0_row6\" class=\"row_heading level0 row6\" >3</th>\n                        <td id=\"T_98dce_row6_col0\" class=\"data row6 col0\" >6</td>\n                        <td id=\"T_98dce_row6_col1\" class=\"data row6 col1\" >3</td>\n                        <td id=\"T_98dce_row6_col2\" class=\"data row6 col2\" >Winners</td>\n                        <td id=\"T_98dce_row6_col3\" class=\"data row6 col3\" >-0.018114</td>\n                        <td id=\"T_98dce_row6_col4\" class=\"data row6 col4\" >0.108146</td>\n                        <td id=\"T_98dce_row6_col5\" class=\"data row6 col5\" >0.188562</td>\n                        <td id=\"T_98dce_row6_col6\" class=\"data row6 col6\" >-1.329477</td>\n            </tr>\n            <tr>\n                        <th id=\"T_98dce_level0_row7\" class=\"row_heading level0 row7\" >4</th>\n                        <td id=\"T_98dce_row7_col0\" class=\"data row7 col0\" >6</td>\n                        <td id=\"T_98dce_row7_col1\" class=\"data row7 col1\" >3</td>\n                        <td id=\"T_98dce_row7_col2\" class=\"data row7 col2\" >Losers</td>\n                        <td id=\"T_98dce_row7_col3\" class=\"data row7 col3\" >-0.065292</td>\n                        <td id=\"T_98dce_row7_col4\" class=\"data row7 col4\" >0.099903</td>\n                        <td id=\"T_98dce_row7_col5\" class=\"data row7 col5\" >0.000002</td>\n                        <td id=\"T_98dce_row7_col6\" class=\"data row7 col6\" >-5.187423</td>\n            </tr>\n            <tr>\n                        <th id=\"T_98dce_level0_row8\" class=\"row_heading level0 row8\" >5</th>\n                        <td id=\"T_98dce_row8_col0\" class=\"data row8 col0\" >6</td>\n                        <td id=\"T_98dce_row8_col1\" class=\"data row8 col1\" >3</td>\n                        <td id=\"T_98dce_row8_col2\" class=\"data row8 col2\" >Winners_minus_Losers</td>\n                        <td id=\"T_98dce_row8_col3\" class=\"data row8 col3\" >-0.038401</td>\n                        <td id=\"T_98dce_row8_col4\" class=\"data row8 col4\" >0.065872</td>\n                        <td id=\"T_98dce_row8_col5\" class=\"data row8 col5\" >0.000019</td>\n                        <td id=\"T_98dce_row8_col6\" class=\"data row8 col6\" >-4.627217</td>\n            </tr>\n            <tr>\n                        <th id=\"T_98dce_level0_row9\" class=\"row_heading level0 row9\" >9</th>\n                        <td id=\"T_98dce_row9_col0\" class=\"data row9 col0\" >6</td>\n                        <td id=\"T_98dce_row9_col1\" class=\"data row9 col1\" >6</td>\n                        <td id=\"T_98dce_row9_col2\" class=\"data row9 col2\" >Winners</td>\n                        <td id=\"T_98dce_row9_col3\" class=\"data row9 col3\" >-0.005901</td>\n                        <td id=\"T_98dce_row9_col4\" class=\"data row9 col4\" >0.132853</td>\n                        <td id=\"T_98dce_row9_col5\" class=\"data row9 col5\" >0.732043</td>\n                        <td id=\"T_98dce_row9_col6\" class=\"data row9 col6\" >-0.344036</td>\n            </tr>\n            <tr>\n                        <th id=\"T_98dce_level0_row10\" class=\"row_heading level0 row10\" >10</th>\n                        <td id=\"T_98dce_row10_col0\" class=\"data row10 col0\" >6</td>\n                        <td id=\"T_98dce_row10_col1\" class=\"data row10 col1\" >6</td>\n                        <td id=\"T_98dce_row10_col2\" class=\"data row10 col2\" >Losers</td>\n                        <td id=\"T_98dce_row10_col3\" class=\"data row10 col3\" >-0.084735</td>\n                        <td id=\"T_98dce_row10_col4\" class=\"data row10 col4\" >0.148587</td>\n                        <td id=\"T_98dce_row10_col5\" class=\"data row10 col5\" >0.000043</td>\n                        <td id=\"T_98dce_row10_col6\" class=\"data row10 col6\" >-4.417327</td>\n            </tr>\n            <tr>\n                        <th id=\"T_98dce_level0_row11\" class=\"row_heading level0 row11\" >11</th>\n                        <td id=\"T_98dce_row11_col0\" class=\"data row11 col0\" >6</td>\n                        <td id=\"T_98dce_row11_col1\" class=\"data row11 col1\" >6</td>\n                        <td id=\"T_98dce_row11_col2\" class=\"data row11 col2\" >Winners_minus_Losers</td>\n                        <td id=\"T_98dce_row11_col3\" class=\"data row11 col3\" >-0.040077</td>\n                        <td id=\"T_98dce_row11_col4\" class=\"data row11 col4\" >0.077437</td>\n                        <td id=\"T_98dce_row11_col5\" class=\"data row11 col5\" >0.000174</td>\n                        <td id=\"T_98dce_row11_col6\" class=\"data row11 col6\" >-4.008862</td>\n            </tr>\n            <tr>\n                        <th id=\"T_98dce_level0_row12\" class=\"row_heading level0 row12\" >12</th>\n                        <td id=\"T_98dce_row12_col0\" class=\"data row12 col0\" >6</td>\n                        <td id=\"T_98dce_row12_col1\" class=\"data row12 col1\" >9</td>\n                        <td id=\"T_98dce_row12_col2\" class=\"data row12 col2\" >Winners</td>\n                        <td id=\"T_98dce_row12_col3\" class=\"data row12 col3\" >-0.007125</td>\n                        <td id=\"T_98dce_row12_col4\" class=\"data row12 col4\" >0.155667</td>\n                        <td id=\"T_98dce_row12_col5\" class=\"data row12 col5\" >0.730962</td>\n                        <td id=\"T_98dce_row12_col6\" class=\"data row12 col6\" >-0.345568</td>\n            </tr>\n            <tr>\n                        <th id=\"T_98dce_level0_row13\" class=\"row_heading level0 row13\" >13</th>\n                        <td id=\"T_98dce_row13_col0\" class=\"data row13 col0\" >6</td>\n                        <td id=\"T_98dce_row13_col1\" class=\"data row13 col1\" >9</td>\n                        <td id=\"T_98dce_row13_col2\" class=\"data row13 col2\" >Losers</td>\n                        <td id=\"T_98dce_row13_col3\" class=\"data row13 col3\" >-0.110794</td>\n                        <td id=\"T_98dce_row13_col4\" class=\"data row13 col4\" >0.191930</td>\n                        <td id=\"T_98dce_row13_col5\" class=\"data row13 col5\" >0.000057</td>\n                        <td id=\"T_98dce_row13_col6\" class=\"data row13 col6\" >-4.358225</td>\n            </tr>\n            <tr>\n                        <th id=\"T_98dce_level0_row14\" class=\"row_heading level0 row14\" >14</th>\n                        <td id=\"T_98dce_row14_col0\" class=\"data row14 col0\" >6</td>\n                        <td id=\"T_98dce_row14_col1\" class=\"data row14 col1\" >9</td>\n                        <td id=\"T_98dce_row14_col2\" class=\"data row14 col2\" >Winners_minus_Losers</td>\n                        <td id=\"T_98dce_row14_col3\" class=\"data row14 col3\" >-0.050998</td>\n                        <td id=\"T_98dce_row14_col4\" class=\"data row14 col4\" >0.085527</td>\n                        <td id=\"T_98dce_row14_col5\" class=\"data row14 col5\" >0.000035</td>\n                        <td id=\"T_98dce_row14_col6\" class=\"data row14 col6\" >-4.501825</td>\n            </tr>\n            <tr>\n                        <th id=\"T_98dce_level0_row15\" class=\"row_heading level0 row15\" >15</th>\n                        <td id=\"T_98dce_row15_col0\" class=\"data row15 col0\" >9</td>\n                        <td id=\"T_98dce_row15_col1\" class=\"data row15 col1\" >6</td>\n                        <td id=\"T_98dce_row15_col2\" class=\"data row15 col2\" >Winners</td>\n                        <td id=\"T_98dce_row15_col3\" class=\"data row15 col3\" >-0.018595</td>\n                        <td id=\"T_98dce_row15_col4\" class=\"data row15 col4\" >0.108540</td>\n                        <td id=\"T_98dce_row15_col5\" class=\"data row15 col5\" >0.201182</td>\n                        <td id=\"T_98dce_row15_col6\" class=\"data row15 col6\" >-1.293403</td>\n            </tr>\n            <tr>\n                        <th id=\"T_98dce_level0_row16\" class=\"row_heading level0 row16\" >16</th>\n                        <td id=\"T_98dce_row16_col0\" class=\"data row16 col0\" >9</td>\n                        <td id=\"T_98dce_row16_col1\" class=\"data row16 col1\" >6</td>\n                        <td id=\"T_98dce_row16_col2\" class=\"data row16 col2\" >Losers</td>\n                        <td id=\"T_98dce_row16_col3\" class=\"data row16 col3\" >-0.085922</td>\n                        <td id=\"T_98dce_row16_col4\" class=\"data row16 col4\" >0.180657</td>\n                        <td id=\"T_98dce_row16_col5\" class=\"data row16 col5\" >0.000695</td>\n                        <td id=\"T_98dce_row16_col6\" class=\"data row16 col6\" >-3.590785</td>\n            </tr>\n            <tr>\n                        <th id=\"T_98dce_level0_row17\" class=\"row_heading level0 row17\" >17</th>\n                        <td id=\"T_98dce_row17_col0\" class=\"data row17 col0\" >9</td>\n                        <td id=\"T_98dce_row17_col1\" class=\"data row17 col1\" >6</td>\n                        <td id=\"T_98dce_row17_col2\" class=\"data row17 col2\" >Winners_minus_Losers</td>\n                        <td id=\"T_98dce_row17_col3\" class=\"data row17 col3\" >-0.045699</td>\n                        <td id=\"T_98dce_row17_col4\" class=\"data row17 col4\" >0.068242</td>\n                        <td id=\"T_98dce_row17_col5\" class=\"data row17 col5\" >0.000005</td>\n                        <td id=\"T_98dce_row17_col6\" class=\"data row17 col6\" >-5.055866</td>\n            </tr>\n    </tbody></table>"
     },
     "metadata": {},
     "execution_count": 55
    }
   ],
   "source": [
    "display_test_res(hose_test_res_15_19)"
   ]
  },
  {
   "cell_type": "code",
   "execution_count": null,
   "metadata": {},
   "outputs": [],
   "source": []
  }
 ]
}