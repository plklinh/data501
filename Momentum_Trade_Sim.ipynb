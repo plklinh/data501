{
 "metadata": {
  "language_info": {
   "codemirror_mode": {
    "name": "ipython",
    "version": 3
   },
   "file_extension": ".py",
   "mimetype": "text/x-python",
   "name": "python",
   "nbconvert_exporter": "python",
   "pygments_lexer": "ipython3",
   "version": "3.8.5"
  },
  "orig_nbformat": 2,
  "kernelspec": {
   "name": "python385jvsc74a57bd0b5ecc31e565de74f2cde783accb45dd0eb98b9609177f37cf7649de894cda790",
   "display_name": "Python 3.8.5 64-bit ('base': conda)"
  }
 },
 "nbformat": 4,
 "nbformat_minor": 2,
 "cells": [
  {
   "cell_type": "code",
   "execution_count": 1,
   "metadata": {},
   "outputs": [],
   "source": [
    "import numpy as np\n",
    "import pandas as pd\n",
    "from scipy import stats\n",
    "import matplotlib.pyplot as plt\n",
    "from data import Data"
   ]
  },
  {
   "source": [
    "## Data Preparation"
   ],
   "cell_type": "markdown",
   "metadata": {}
  },
  {
   "cell_type": "code",
   "execution_count": 3,
   "metadata": {},
   "outputs": [],
   "source": [
    "# Reading in data\n",
    "all_data = Data()\n",
    "hose_listings, hnx_listings = all_data.hnx_listings,all_data.hose_listings\n",
    "hose_trades, hnx_trades = all_data.get_all_records()\n",
    "\n",
    "# Removing delisted stocks\n",
    "hose_trades = hose_trades[~hose_trades['Symbol'].isin(hose_listings[hose_listings[\"Status\"] == \"Delisted\"][\"Symbol\"])]\n",
    "hnx_trades = hnx_trades[~hnx_trades['Symbol'].isin(hnx_listings[hnx_listings[\"Status\"] == \"Delisted\"][\"Symbol\"])]\n",
    "\n",
    "# Filtering our records from the last 5 years\n",
    "hose_trades_15_20 = hose_trades[hose_trades[\"Date\"] > \"2014-12-31\"]\n",
    "hnx_trades_15_20 = hnx_trades[hnx_trades[\"Date\"] > \"2014-12-31\"]\n",
    "\n",
    "# Create year, month, day variables\n",
    "def create_time_vars(data):\n",
    "    data[\"Year\"] = data.loc[:,\"Date\"].dt.year\n",
    "    data[\"Month\"] = data.loc[:,\"Date\"].dt.month\n",
    "    data[\"Day\"] = data.loc[:,\"Date\"].dt.day\n",
    "\n",
    "create_time_vars(hose_trades_15_20)\n",
    "create_time_vars(hnx_trades_15_20)"
   ]
  },
  {
   "cell_type": "code",
   "execution_count": 12,
   "metadata": {},
   "outputs": [
    {
     "output_type": "execute_result",
     "data": {
      "text/plain": [
       "          Adj_close  Matched_Volume\n",
       "count  519427.00000    5.194270e+05\n",
       "mean       26.26778    4.865906e+05\n",
       "std        28.64859    1.646994e+06\n",
       "min         0.00000    0.000000e+00\n",
       "25%         9.61000    2.230000e+03\n",
       "50%        17.59000    3.905000e+04\n",
       "75%        31.30000    2.969300e+05\n",
       "max       343.00000    1.284439e+08"
      ],
      "text/html": "<div>\n<style scoped>\n    .dataframe tbody tr th:only-of-type {\n        vertical-align: middle;\n    }\n\n    .dataframe tbody tr th {\n        vertical-align: top;\n    }\n\n    .dataframe thead th {\n        text-align: right;\n    }\n</style>\n<table border=\"1\" class=\"dataframe\">\n  <thead>\n    <tr style=\"text-align: right;\">\n      <th></th>\n      <th>Adj_close</th>\n      <th>Matched_Volume</th>\n    </tr>\n  </thead>\n  <tbody>\n    <tr>\n      <th>count</th>\n      <td>519427.00000</td>\n      <td>5.194270e+05</td>\n    </tr>\n    <tr>\n      <th>mean</th>\n      <td>26.26778</td>\n      <td>4.865906e+05</td>\n    </tr>\n    <tr>\n      <th>std</th>\n      <td>28.64859</td>\n      <td>1.646994e+06</td>\n    </tr>\n    <tr>\n      <th>min</th>\n      <td>0.00000</td>\n      <td>0.000000e+00</td>\n    </tr>\n    <tr>\n      <th>25%</th>\n      <td>9.61000</td>\n      <td>2.230000e+03</td>\n    </tr>\n    <tr>\n      <th>50%</th>\n      <td>17.59000</td>\n      <td>3.905000e+04</td>\n    </tr>\n    <tr>\n      <th>75%</th>\n      <td>31.30000</td>\n      <td>2.969300e+05</td>\n    </tr>\n    <tr>\n      <th>max</th>\n      <td>343.00000</td>\n      <td>1.284439e+08</td>\n    </tr>\n  </tbody>\n</table>\n</div>"
     },
     "metadata": {},
     "execution_count": 12
    }
   ],
   "source": [
    "# Inspect the adjusted closing prices and matched volumes for HOSE\n",
    "hose_trades_15_20[[\"Adj_close\",\"Matched_Volume\"]].describe()"
   ]
  },
  {
   "cell_type": "code",
   "execution_count": 13,
   "metadata": {},
   "outputs": [
    {
     "output_type": "execute_result",
     "data": {
      "text/plain": [
       "           Adj_close  Matched_Volume\n",
       "count  486847.000000    4.868470e+05\n",
       "mean       16.735464    1.006536e+05\n",
       "std        18.050091    6.690127e+05\n",
       "min         0.200000    0.000000e+00\n",
       "25%         6.800000    0.000000e+00\n",
       "50%        11.700000    4.000000e+02\n",
       "75%        19.800000    1.330300e+04\n",
       "max       263.300000    6.558985e+07"
      ],
      "text/html": "<div>\n<style scoped>\n    .dataframe tbody tr th:only-of-type {\n        vertical-align: middle;\n    }\n\n    .dataframe tbody tr th {\n        vertical-align: top;\n    }\n\n    .dataframe thead th {\n        text-align: right;\n    }\n</style>\n<table border=\"1\" class=\"dataframe\">\n  <thead>\n    <tr style=\"text-align: right;\">\n      <th></th>\n      <th>Adj_close</th>\n      <th>Matched_Volume</th>\n    </tr>\n  </thead>\n  <tbody>\n    <tr>\n      <th>count</th>\n      <td>486847.000000</td>\n      <td>4.868470e+05</td>\n    </tr>\n    <tr>\n      <th>mean</th>\n      <td>16.735464</td>\n      <td>1.006536e+05</td>\n    </tr>\n    <tr>\n      <th>std</th>\n      <td>18.050091</td>\n      <td>6.690127e+05</td>\n    </tr>\n    <tr>\n      <th>min</th>\n      <td>0.200000</td>\n      <td>0.000000e+00</td>\n    </tr>\n    <tr>\n      <th>25%</th>\n      <td>6.800000</td>\n      <td>0.000000e+00</td>\n    </tr>\n    <tr>\n      <th>50%</th>\n      <td>11.700000</td>\n      <td>4.000000e+02</td>\n    </tr>\n    <tr>\n      <th>75%</th>\n      <td>19.800000</td>\n      <td>1.330300e+04</td>\n    </tr>\n    <tr>\n      <th>max</th>\n      <td>263.300000</td>\n      <td>6.558985e+07</td>\n    </tr>\n  </tbody>\n</table>\n</div>"
     },
     "metadata": {},
     "execution_count": 13
    }
   ],
   "source": [
    "# Inspect the adjusted closing prices and matched volumes for HNX\n",
    "hnx_trades_15_20[[\"Adj_close\",\"Matched_Volume\"]].describe()"
   ]
  },
  {
   "cell_type": "code",
   "execution_count": 59,
   "metadata": {},
   "outputs": [],
   "source": [
    "# Filter out stocks that at maximum, traded for less than 5000 VND or  saw less than 100000 trades per day\n",
    "def filter_low_price_and_volume(data):\n",
    "    max_adj_close = data.groupby(\"Symbol\")[\"Adj_close\"].max()\n",
    "    low_price = max_adj_close[max_adj_close <= 5.0].index\n",
    "    max_volume = data.groupby(\"Symbol\")[\"Matched_Volume\"].max()\n",
    "    low_volume = max_volume[max_volume <= 100000].index\n",
    "    low_price_and_volume = set(low_price).union(set(low_volume))\n",
    "    return data[~ data['Symbol'].isin( low_price_and_volume ) ]\n",
    "hose_trades_15_20 = filter_low_price_and_volume(hose_trades_15_20)\n",
    "hnx_trades_15_20 = filter_low_price_and_volume(hnx_trades_15_20)"
   ]
  },
  {
   "cell_type": "code",
   "execution_count": 201,
   "metadata": {},
   "outputs": [
    {
     "output_type": "stream",
     "name": "stdout",
     "text": [
      "HOSE\n",
      "Original:  433\n",
      "After prep:  388\n",
      "\n",
      "HNX\n",
      "Original:  404\n",
      "After prep:  259\n"
     ]
    }
   ],
   "source": [
    "print(\"HOSE\")\n",
    "print(\"Original: \", len(np.unique(hose_trades[\"Symbol\"])))\n",
    "print(\"After prep: \",len(np.unique(hose_trades_15_20[\"Symbol\"])))\n",
    "print(\"\\nHNX\")\n",
    "print(\"Original: \",len(np.unique(hnx_trades[\"Symbol\"])))\n",
    "print(\"After prep: \",len(np.unique(hnx_trades_15_20[\"Symbol\"])))"
   ]
  },
  {
   "source": [
    "## Calculate Momentum Strategies' Returns"
   ],
   "cell_type": "markdown",
   "metadata": {}
  },
  {
   "source": [
    "# Calculate strategy returns for every month\n",
    "def calculate_strategy_returns(trade_data, preform_period, hold_period):\n",
    "    # Get the start of the trading month.\n",
    "    # Because on some days only a few listings are traded, I had to specify that number of listings being traded exceed 200 to get whole-market sessions\n",
    "    def get_trading_month_start(trade_data):\n",
    "        valid_df = trade_data.groupby([\"Year\",\"Month\",\"Date\"]).size().reset_index()\n",
    "        month_starts =  valid_df[valid_df[0] >= 200].groupby([\"Year\",\"Month\"])[\"Date\"].min().reset_index()\n",
    "        return month_starts\n",
    "    \n",
    "    # Helper function\n",
    "    def single_symbol_strategy(symbol_trade_data):\n",
    "        df = symbol_trade_data.sort_values(by = \"Date\")\n",
    "        preform = df[\"Adj_close\"].shift( preform_period)\n",
    "        hold = df[\"Adj_close\"].shift( - hold_period)\n",
    "        res_df = pd.DataFrame({\"Month_start\": df[\"Date\"],\n",
    "                            \"Preform_date\": df[\"Date\"].shift( preform_period),\n",
    "                            \"Hold_date\": df[\"Date\"].shift(- hold_period),\n",
    "                            \"Symbol\":  df[\"Symbol\"],\n",
    "                            \"Month_start_price\": df[\"Adj_close\"], \n",
    "                            \"Preform_price\": preform, \n",
    "                            \"Hold_price\": hold }).dropna()\n",
    "        return res_df\n",
    "\n",
    "    # Form dataset with prices at month start, at beginning of preformation period and at the end of holding period to facilitate returns calculations\n",
    "    def form_strategy_df(trade_data):\n",
    "        month_starts = get_trading_month_start(trade_data)\n",
    "        df = trade_data[trade_data[\"Date\"].isin(month_starts[\"Date\"])][[\"Date\", \"Symbol\",\"Adj_close\"]]\n",
    "        periods = []\n",
    "        symbols = np.unique(trade_data[\"Symbol\"])\n",
    "        for symbol in symbols:\n",
    "            periods.append(single_symbol_strategy(df[df[\"Symbol\"]==symbol]))\n",
    "        test_df =  pd.concat(periods).sort_values(by=[\"Month_start\",\"Symbol\"])\n",
    "        test_df.loc[:,\"Preform_returns\"] = (test_df[\"Month_start_price\"]-test_df[\"Preform_price\"])*100/(test_df[\"Preform_price\"])\n",
    "        return  test_df\n",
    "    test_df = form_strategy_df(trade_data)\n",
    "    returns_df = {\"Month_start\":[],\"Winners\":[],\"Losers\":[],\"Winners_minus_Losers\":[]}\n",
    "    \n",
    "    for month_start in np.unique(test_df['Month_start']):\n",
    "        df = test_df[test_df['Month_start'] == month_start]\n",
    "        # get winners - top 10th percentile\n",
    "        winners = df[df[\"Preform_returns\"] > df[\"Preform_returns\"].quantile(.9)]\n",
    "        # get losers - bottom 10th percentile\n",
    "        losers = df[df[\"Preform_returns\"] < df[\"Preform_returns\"].quantile(.1)]\n",
    "        # calculate returns for individual stocks\n",
    "        winners_returns = (winners[\"Hold_price\"] - winners[\"Month_start_price\"])/(winners[\"Month_start_price\"])\n",
    "        losers_returns = (losers[\"Month_start_price\"] - losers[\"Hold_price\"])/(losers[\"Hold_price\"])\n",
    "        # calculate returns porfolios (mean of individual stock returns)\n",
    "        returns_df[\"Month_start\"].append(month_start)\n",
    "        returns_df[\"Winners\"].append(np.mean(winners_returns))\n",
    "        returns_df[\"Losers\"].append(np.mean(losers_returns))\n",
    "        returns_df[\"Winners_minus_Losers\"].append((np.mean(winners_returns) + np.mean(losers_returns))/2 )\n",
    "    returns_df = pd.DataFrame(returns_df)\n",
    "    returns_df[\"Preform_Period\"] = preform_period\n",
    "    returns_df[\"Hold_Period\"] = hold_period\n",
    "    return returns_df"
   ],
   "cell_type": "code",
   "metadata": {
    "tags": []
   },
   "execution_count": 185,
   "outputs": []
  },
  {
   "cell_type": "code",
   "execution_count": 195,
   "metadata": {},
   "outputs": [],
   "source": [
    "# Conduct t-test against mean returns of 0 for different combinations of preformation and holding periods\n",
    "def calculate_t_test(trade_data):\n",
    "    pre_hold_combo =[[3,3],\n",
    "            [6,3],\n",
    "            [3,6],\n",
    "            [6,6],\n",
    "            [6,9],\n",
    "            [9,6],\n",
    "            [9,9],\n",
    "            [3,9],\n",
    "            [9,3]]\n",
    "    test_res = {\"Preform\":[],\"Hold\":[], \"Strategy\":[],\"Mean Returns\":[],\"Stdev. Returns\":[],\"p-value\":[],\"t-stat\": [] }\n",
    "    for combo in pre_hold_combo:\n",
    "        preform_period = combo[0]\n",
    "        hold_period = combo[1]\n",
    "        strat_rets = calculate_strategy_returns(trade_data,  preform_period, hold_period)\n",
    "        for strat in [\"Winners\",\"Losers\",\"Winners_minus_Losers\"]:\n",
    "            test_res[\"Preform\"].append(preform_period)\n",
    "            test_res[\"Hold\"].append(hold_period)\n",
    "            t_res = stats.ttest_1samp(strat_rets[strat],0.0)\n",
    "            test_res[\"Strategy\"].append(strat)\n",
    "            test_res[\"Mean Returns\"].append(np.mean(strat_rets[strat]))\n",
    "            test_res[\"Stdev. Returns\"].append(np.std(strat_rets[strat], ddof = 1))\n",
    "            test_res[\"p-value\"].append(t_res.pvalue)\n",
    "            test_res[\"t-stat\"].append(t_res.statistic)\n",
    "    test_res = pd.DataFrame(test_res)\n",
    "    return test_res"
   ]
  },
  {
   "cell_type": "code",
   "execution_count": 196,
   "metadata": {},
   "outputs": [
    {
     "output_type": "execute_result",
     "data": {
      "text/plain": [
       "    Preform  Hold              Strategy  Mean Returns  Stdev. Returns  \\\n",
       "0         3     3               Winners     -0.071637        0.111265   \n",
       "1         3     3                Losers     -0.022041        0.143469   \n",
       "2         3     3  Winners_minus_Losers     -0.046839        0.107254   \n",
       "3         6     3               Winners     -0.040745        0.079052   \n",
       "4         6     3                Losers      0.004090        0.118149   \n",
       "5         6     3  Winners_minus_Losers     -0.018328        0.076058   \n",
       "6         3     6               Winners     -0.061353        0.101859   \n",
       "7         3     6                Losers      0.045617        0.167977   \n",
       "8         3     6  Winners_minus_Losers     -0.007868        0.104927   \n",
       "9         6     6               Winners     -0.047289        0.104723   \n",
       "10        6     6                Losers      0.049449        0.139164   \n",
       "11        6     6  Winners_minus_Losers      0.001080        0.076643   \n",
       "12        6     9               Winners     -0.036665        0.131436   \n",
       "13        6     9                Losers      0.094777        0.190380   \n",
       "14        6     9  Winners_minus_Losers      0.029056        0.105840   \n",
       "15        9     6               Winners     -0.020422        0.108944   \n",
       "16        9     6                Losers      0.049950        0.166797   \n",
       "17        9     6  Winners_minus_Losers      0.014764        0.085308   \n",
       "18        9     9               Winners     -0.022217        0.119754   \n",
       "19        9     9                Losers      0.094144        0.184351   \n",
       "20        9     9  Winners_minus_Losers      0.035964        0.095410   \n",
       "21        3     9               Winners     -0.082540        0.123079   \n",
       "22        3     9                Losers      0.081990        0.165263   \n",
       "23        3     9  Winners_minus_Losers     -0.000275        0.104933   \n",
       "24        9     3               Winners     -0.036468        0.080943   \n",
       "25        9     3                Losers     -0.001582        0.111069   \n",
       "26        9     3  Winners_minus_Losers     -0.019025        0.065168   \n",
       "\n",
       "     p-value    t-stat  \n",
       "0   0.000002 -5.230626  \n",
       "1   0.216471 -1.248103  \n",
       "2   0.000727 -3.547887  \n",
       "3   0.000126 -4.091051  \n",
       "4   0.784431  0.274738  \n",
       "5   0.060416 -1.912642  \n",
       "6   0.000011 -4.780852  \n",
       "7   0.035013  2.155492  \n",
       "8   0.553891 -0.595177  \n",
       "9   0.000899 -3.497783  \n",
       "10  0.007849  2.752341  \n",
       "11  0.913466  0.109135  \n",
       "12  0.039693 -2.106073  \n",
       "13  0.000410  3.758540  \n",
       "14  0.042819  2.072659  \n",
       "15  0.162540 -1.415225  \n",
       "16  0.027668  2.260926  \n",
       "17  0.196673  1.306648  \n",
       "18  0.178558 -1.363280  \n",
       "19  0.000435  3.752729  \n",
       "20  0.007713  2.769934  \n",
       "21  0.000003 -5.194654  \n",
       "22  0.000300  3.842935  \n",
       "23  0.983879 -0.020292  \n",
       "24  0.000921 -3.489852  \n",
       "25  0.912517 -0.110336  \n",
       "26  0.027439 -2.261335  "
      ],
      "text/html": "<div>\n<style scoped>\n    .dataframe tbody tr th:only-of-type {\n        vertical-align: middle;\n    }\n\n    .dataframe tbody tr th {\n        vertical-align: top;\n    }\n\n    .dataframe thead th {\n        text-align: right;\n    }\n</style>\n<table border=\"1\" class=\"dataframe\">\n  <thead>\n    <tr style=\"text-align: right;\">\n      <th></th>\n      <th>Preform</th>\n      <th>Hold</th>\n      <th>Strategy</th>\n      <th>Mean Returns</th>\n      <th>Stdev. Returns</th>\n      <th>p-value</th>\n      <th>t-stat</th>\n    </tr>\n  </thead>\n  <tbody>\n    <tr>\n      <th>0</th>\n      <td>3</td>\n      <td>3</td>\n      <td>Winners</td>\n      <td>-0.071637</td>\n      <td>0.111265</td>\n      <td>0.000002</td>\n      <td>-5.230626</td>\n    </tr>\n    <tr>\n      <th>1</th>\n      <td>3</td>\n      <td>3</td>\n      <td>Losers</td>\n      <td>-0.022041</td>\n      <td>0.143469</td>\n      <td>0.216471</td>\n      <td>-1.248103</td>\n    </tr>\n    <tr>\n      <th>2</th>\n      <td>3</td>\n      <td>3</td>\n      <td>Winners_minus_Losers</td>\n      <td>-0.046839</td>\n      <td>0.107254</td>\n      <td>0.000727</td>\n      <td>-3.547887</td>\n    </tr>\n    <tr>\n      <th>3</th>\n      <td>6</td>\n      <td>3</td>\n      <td>Winners</td>\n      <td>-0.040745</td>\n      <td>0.079052</td>\n      <td>0.000126</td>\n      <td>-4.091051</td>\n    </tr>\n    <tr>\n      <th>4</th>\n      <td>6</td>\n      <td>3</td>\n      <td>Losers</td>\n      <td>0.004090</td>\n      <td>0.118149</td>\n      <td>0.784431</td>\n      <td>0.274738</td>\n    </tr>\n    <tr>\n      <th>5</th>\n      <td>6</td>\n      <td>3</td>\n      <td>Winners_minus_Losers</td>\n      <td>-0.018328</td>\n      <td>0.076058</td>\n      <td>0.060416</td>\n      <td>-1.912642</td>\n    </tr>\n    <tr>\n      <th>6</th>\n      <td>3</td>\n      <td>6</td>\n      <td>Winners</td>\n      <td>-0.061353</td>\n      <td>0.101859</td>\n      <td>0.000011</td>\n      <td>-4.780852</td>\n    </tr>\n    <tr>\n      <th>7</th>\n      <td>3</td>\n      <td>6</td>\n      <td>Losers</td>\n      <td>0.045617</td>\n      <td>0.167977</td>\n      <td>0.035013</td>\n      <td>2.155492</td>\n    </tr>\n    <tr>\n      <th>8</th>\n      <td>3</td>\n      <td>6</td>\n      <td>Winners_minus_Losers</td>\n      <td>-0.007868</td>\n      <td>0.104927</td>\n      <td>0.553891</td>\n      <td>-0.595177</td>\n    </tr>\n    <tr>\n      <th>9</th>\n      <td>6</td>\n      <td>6</td>\n      <td>Winners</td>\n      <td>-0.047289</td>\n      <td>0.104723</td>\n      <td>0.000899</td>\n      <td>-3.497783</td>\n    </tr>\n    <tr>\n      <th>10</th>\n      <td>6</td>\n      <td>6</td>\n      <td>Losers</td>\n      <td>0.049449</td>\n      <td>0.139164</td>\n      <td>0.007849</td>\n      <td>2.752341</td>\n    </tr>\n    <tr>\n      <th>11</th>\n      <td>6</td>\n      <td>6</td>\n      <td>Winners_minus_Losers</td>\n      <td>0.001080</td>\n      <td>0.076643</td>\n      <td>0.913466</td>\n      <td>0.109135</td>\n    </tr>\n    <tr>\n      <th>12</th>\n      <td>6</td>\n      <td>9</td>\n      <td>Winners</td>\n      <td>-0.036665</td>\n      <td>0.131436</td>\n      <td>0.039693</td>\n      <td>-2.106073</td>\n    </tr>\n    <tr>\n      <th>13</th>\n      <td>6</td>\n      <td>9</td>\n      <td>Losers</td>\n      <td>0.094777</td>\n      <td>0.190380</td>\n      <td>0.000410</td>\n      <td>3.758540</td>\n    </tr>\n    <tr>\n      <th>14</th>\n      <td>6</td>\n      <td>9</td>\n      <td>Winners_minus_Losers</td>\n      <td>0.029056</td>\n      <td>0.105840</td>\n      <td>0.042819</td>\n      <td>2.072659</td>\n    </tr>\n    <tr>\n      <th>15</th>\n      <td>9</td>\n      <td>6</td>\n      <td>Winners</td>\n      <td>-0.020422</td>\n      <td>0.108944</td>\n      <td>0.162540</td>\n      <td>-1.415225</td>\n    </tr>\n    <tr>\n      <th>16</th>\n      <td>9</td>\n      <td>6</td>\n      <td>Losers</td>\n      <td>0.049950</td>\n      <td>0.166797</td>\n      <td>0.027668</td>\n      <td>2.260926</td>\n    </tr>\n    <tr>\n      <th>17</th>\n      <td>9</td>\n      <td>6</td>\n      <td>Winners_minus_Losers</td>\n      <td>0.014764</td>\n      <td>0.085308</td>\n      <td>0.196673</td>\n      <td>1.306648</td>\n    </tr>\n    <tr>\n      <th>18</th>\n      <td>9</td>\n      <td>9</td>\n      <td>Winners</td>\n      <td>-0.022217</td>\n      <td>0.119754</td>\n      <td>0.178558</td>\n      <td>-1.363280</td>\n    </tr>\n    <tr>\n      <th>19</th>\n      <td>9</td>\n      <td>9</td>\n      <td>Losers</td>\n      <td>0.094144</td>\n      <td>0.184351</td>\n      <td>0.000435</td>\n      <td>3.752729</td>\n    </tr>\n    <tr>\n      <th>20</th>\n      <td>9</td>\n      <td>9</td>\n      <td>Winners_minus_Losers</td>\n      <td>0.035964</td>\n      <td>0.095410</td>\n      <td>0.007713</td>\n      <td>2.769934</td>\n    </tr>\n    <tr>\n      <th>21</th>\n      <td>3</td>\n      <td>9</td>\n      <td>Winners</td>\n      <td>-0.082540</td>\n      <td>0.123079</td>\n      <td>0.000003</td>\n      <td>-5.194654</td>\n    </tr>\n    <tr>\n      <th>22</th>\n      <td>3</td>\n      <td>9</td>\n      <td>Losers</td>\n      <td>0.081990</td>\n      <td>0.165263</td>\n      <td>0.000300</td>\n      <td>3.842935</td>\n    </tr>\n    <tr>\n      <th>23</th>\n      <td>3</td>\n      <td>9</td>\n      <td>Winners_minus_Losers</td>\n      <td>-0.000275</td>\n      <td>0.104933</td>\n      <td>0.983879</td>\n      <td>-0.020292</td>\n    </tr>\n    <tr>\n      <th>24</th>\n      <td>9</td>\n      <td>3</td>\n      <td>Winners</td>\n      <td>-0.036468</td>\n      <td>0.080943</td>\n      <td>0.000921</td>\n      <td>-3.489852</td>\n    </tr>\n    <tr>\n      <th>25</th>\n      <td>9</td>\n      <td>3</td>\n      <td>Losers</td>\n      <td>-0.001582</td>\n      <td>0.111069</td>\n      <td>0.912517</td>\n      <td>-0.110336</td>\n    </tr>\n    <tr>\n      <th>26</th>\n      <td>9</td>\n      <td>3</td>\n      <td>Winners_minus_Losers</td>\n      <td>-0.019025</td>\n      <td>0.065168</td>\n      <td>0.027439</td>\n      <td>-2.261335</td>\n    </tr>\n  </tbody>\n</table>\n</div>"
     },
     "metadata": {},
     "execution_count": 196
    }
   ],
   "source": [
    "hnx_test_res  =  calculate_t_test(hnx_trades_15_20)\n",
    "hnx_test_res"
   ]
  },
  {
   "cell_type": "code",
   "execution_count": 197,
   "metadata": {},
   "outputs": [
    {
     "output_type": "execute_result",
     "data": {
      "text/plain": [
       "    Preform  Hold              Strategy  Mean Returns  Stdev. Returns  \\\n",
       "0         3     3               Winners     -0.042426        0.115015   \n",
       "1         3     3                Losers     -0.019049        0.145464   \n",
       "2         3     3  Winners_minus_Losers     -0.030737        0.100279   \n",
       "3         6     3               Winners     -0.020179        0.100418   \n",
       "4         6     3                Losers      0.023439        0.138704   \n",
       "5         6     3  Winners_minus_Losers      0.001630        0.089975   \n",
       "6         3     6               Winners     -0.019115        0.148585   \n",
       "7         3     6                Losers      0.049871        0.183294   \n",
       "8         3     6  Winners_minus_Losers      0.015378        0.119151   \n",
       "9         6     6               Winners     -0.020962        0.146068   \n",
       "10        6     6                Losers      0.072029        0.170362   \n",
       "11        6     6  Winners_minus_Losers      0.025533        0.098386   \n",
       "12        6     9               Winners     -0.029262        0.157765   \n",
       "13        6     9                Losers      0.121490        0.232351   \n",
       "14        6     9  Winners_minus_Losers      0.046114        0.123655   \n",
       "15        9     6               Winners     -0.033501        0.110944   \n",
       "16        9     6                Losers      0.068626        0.213972   \n",
       "17        9     6  Winners_minus_Losers      0.017562        0.095433   \n",
       "18        9     9               Winners     -0.042715        0.133094   \n",
       "19        9     9                Losers      0.125837        0.257233   \n",
       "20        9     9  Winners_minus_Losers      0.041561        0.119377   \n",
       "21        3     9               Winners     -0.041071        0.173684   \n",
       "22        3     9                Losers      0.088061        0.186600   \n",
       "23        3     9  Winners_minus_Losers      0.023495        0.122355   \n",
       "24        9     3               Winners     -0.031586        0.104524   \n",
       "25        9     3                Losers      0.019648        0.142231   \n",
       "26        9     3  Winners_minus_Losers     -0.005969        0.067181   \n",
       "\n",
       "     p-value    t-stat  \n",
       "0   0.003861 -2.996736  \n",
       "1   0.291326 -1.063865  \n",
       "2   0.015334 -2.490174  \n",
       "3   0.115803 -1.594975  \n",
       "4   0.184715  1.341302  \n",
       "5   0.886115  0.143812  \n",
       "6   0.311175 -1.021100  \n",
       "7   0.034681  2.159580  \n",
       "8   0.309624  1.024406  \n",
       "9   0.270807 -1.111629  \n",
       "10  0.001771  3.274962  \n",
       "11  0.048986  2.010225  \n",
       "12  0.166929 -1.400337  \n",
       "13  0.000223  3.947623  \n",
       "14  0.006711  2.815525  \n",
       "15  0.026450 -2.279796  \n",
       "16  0.018725  2.421408  \n",
       "17  0.170219  1.389374  \n",
       "18  0.022075 -2.358389  \n",
       "19  0.000712  3.594832  \n",
       "20  0.013410  2.558363  \n",
       "21  0.072046 -1.831694  \n",
       "22  0.000548  3.655507  \n",
       "23  0.142232  1.487410  \n",
       "24  0.022644 -2.340762  \n",
       "25  0.288961  1.070035  \n",
       "26  0.493999 -0.688240  "
      ],
      "text/html": "<div>\n<style scoped>\n    .dataframe tbody tr th:only-of-type {\n        vertical-align: middle;\n    }\n\n    .dataframe tbody tr th {\n        vertical-align: top;\n    }\n\n    .dataframe thead th {\n        text-align: right;\n    }\n</style>\n<table border=\"1\" class=\"dataframe\">\n  <thead>\n    <tr style=\"text-align: right;\">\n      <th></th>\n      <th>Preform</th>\n      <th>Hold</th>\n      <th>Strategy</th>\n      <th>Mean Returns</th>\n      <th>Stdev. Returns</th>\n      <th>p-value</th>\n      <th>t-stat</th>\n    </tr>\n  </thead>\n  <tbody>\n    <tr>\n      <th>0</th>\n      <td>3</td>\n      <td>3</td>\n      <td>Winners</td>\n      <td>-0.042426</td>\n      <td>0.115015</td>\n      <td>0.003861</td>\n      <td>-2.996736</td>\n    </tr>\n    <tr>\n      <th>1</th>\n      <td>3</td>\n      <td>3</td>\n      <td>Losers</td>\n      <td>-0.019049</td>\n      <td>0.145464</td>\n      <td>0.291326</td>\n      <td>-1.063865</td>\n    </tr>\n    <tr>\n      <th>2</th>\n      <td>3</td>\n      <td>3</td>\n      <td>Winners_minus_Losers</td>\n      <td>-0.030737</td>\n      <td>0.100279</td>\n      <td>0.015334</td>\n      <td>-2.490174</td>\n    </tr>\n    <tr>\n      <th>3</th>\n      <td>6</td>\n      <td>3</td>\n      <td>Winners</td>\n      <td>-0.020179</td>\n      <td>0.100418</td>\n      <td>0.115803</td>\n      <td>-1.594975</td>\n    </tr>\n    <tr>\n      <th>4</th>\n      <td>6</td>\n      <td>3</td>\n      <td>Losers</td>\n      <td>0.023439</td>\n      <td>0.138704</td>\n      <td>0.184715</td>\n      <td>1.341302</td>\n    </tr>\n    <tr>\n      <th>5</th>\n      <td>6</td>\n      <td>3</td>\n      <td>Winners_minus_Losers</td>\n      <td>0.001630</td>\n      <td>0.089975</td>\n      <td>0.886115</td>\n      <td>0.143812</td>\n    </tr>\n    <tr>\n      <th>6</th>\n      <td>3</td>\n      <td>6</td>\n      <td>Winners</td>\n      <td>-0.019115</td>\n      <td>0.148585</td>\n      <td>0.311175</td>\n      <td>-1.021100</td>\n    </tr>\n    <tr>\n      <th>7</th>\n      <td>3</td>\n      <td>6</td>\n      <td>Losers</td>\n      <td>0.049871</td>\n      <td>0.183294</td>\n      <td>0.034681</td>\n      <td>2.159580</td>\n    </tr>\n    <tr>\n      <th>8</th>\n      <td>3</td>\n      <td>6</td>\n      <td>Winners_minus_Losers</td>\n      <td>0.015378</td>\n      <td>0.119151</td>\n      <td>0.309624</td>\n      <td>1.024406</td>\n    </tr>\n    <tr>\n      <th>9</th>\n      <td>6</td>\n      <td>6</td>\n      <td>Winners</td>\n      <td>-0.020962</td>\n      <td>0.146068</td>\n      <td>0.270807</td>\n      <td>-1.111629</td>\n    </tr>\n    <tr>\n      <th>10</th>\n      <td>6</td>\n      <td>6</td>\n      <td>Losers</td>\n      <td>0.072029</td>\n      <td>0.170362</td>\n      <td>0.001771</td>\n      <td>3.274962</td>\n    </tr>\n    <tr>\n      <th>11</th>\n      <td>6</td>\n      <td>6</td>\n      <td>Winners_minus_Losers</td>\n      <td>0.025533</td>\n      <td>0.098386</td>\n      <td>0.048986</td>\n      <td>2.010225</td>\n    </tr>\n    <tr>\n      <th>12</th>\n      <td>6</td>\n      <td>9</td>\n      <td>Winners</td>\n      <td>-0.029262</td>\n      <td>0.157765</td>\n      <td>0.166929</td>\n      <td>-1.400337</td>\n    </tr>\n    <tr>\n      <th>13</th>\n      <td>6</td>\n      <td>9</td>\n      <td>Losers</td>\n      <td>0.121490</td>\n      <td>0.232351</td>\n      <td>0.000223</td>\n      <td>3.947623</td>\n    </tr>\n    <tr>\n      <th>14</th>\n      <td>6</td>\n      <td>9</td>\n      <td>Winners_minus_Losers</td>\n      <td>0.046114</td>\n      <td>0.123655</td>\n      <td>0.006711</td>\n      <td>2.815525</td>\n    </tr>\n    <tr>\n      <th>15</th>\n      <td>9</td>\n      <td>6</td>\n      <td>Winners</td>\n      <td>-0.033501</td>\n      <td>0.110944</td>\n      <td>0.026450</td>\n      <td>-2.279796</td>\n    </tr>\n    <tr>\n      <th>16</th>\n      <td>9</td>\n      <td>6</td>\n      <td>Losers</td>\n      <td>0.068626</td>\n      <td>0.213972</td>\n      <td>0.018725</td>\n      <td>2.421408</td>\n    </tr>\n    <tr>\n      <th>17</th>\n      <td>9</td>\n      <td>6</td>\n      <td>Winners_minus_Losers</td>\n      <td>0.017562</td>\n      <td>0.095433</td>\n      <td>0.170219</td>\n      <td>1.389374</td>\n    </tr>\n    <tr>\n      <th>18</th>\n      <td>9</td>\n      <td>9</td>\n      <td>Winners</td>\n      <td>-0.042715</td>\n      <td>0.133094</td>\n      <td>0.022075</td>\n      <td>-2.358389</td>\n    </tr>\n    <tr>\n      <th>19</th>\n      <td>9</td>\n      <td>9</td>\n      <td>Losers</td>\n      <td>0.125837</td>\n      <td>0.257233</td>\n      <td>0.000712</td>\n      <td>3.594832</td>\n    </tr>\n    <tr>\n      <th>20</th>\n      <td>9</td>\n      <td>9</td>\n      <td>Winners_minus_Losers</td>\n      <td>0.041561</td>\n      <td>0.119377</td>\n      <td>0.013410</td>\n      <td>2.558363</td>\n    </tr>\n    <tr>\n      <th>21</th>\n      <td>3</td>\n      <td>9</td>\n      <td>Winners</td>\n      <td>-0.041071</td>\n      <td>0.173684</td>\n      <td>0.072046</td>\n      <td>-1.831694</td>\n    </tr>\n    <tr>\n      <th>22</th>\n      <td>3</td>\n      <td>9</td>\n      <td>Losers</td>\n      <td>0.088061</td>\n      <td>0.186600</td>\n      <td>0.000548</td>\n      <td>3.655507</td>\n    </tr>\n    <tr>\n      <th>23</th>\n      <td>3</td>\n      <td>9</td>\n      <td>Winners_minus_Losers</td>\n      <td>0.023495</td>\n      <td>0.122355</td>\n      <td>0.142232</td>\n      <td>1.487410</td>\n    </tr>\n    <tr>\n      <th>24</th>\n      <td>9</td>\n      <td>3</td>\n      <td>Winners</td>\n      <td>-0.031586</td>\n      <td>0.104524</td>\n      <td>0.022644</td>\n      <td>-2.340762</td>\n    </tr>\n    <tr>\n      <th>25</th>\n      <td>9</td>\n      <td>3</td>\n      <td>Losers</td>\n      <td>0.019648</td>\n      <td>0.142231</td>\n      <td>0.288961</td>\n      <td>1.070035</td>\n    </tr>\n    <tr>\n      <th>26</th>\n      <td>9</td>\n      <td>3</td>\n      <td>Winners_minus_Losers</td>\n      <td>-0.005969</td>\n      <td>0.067181</td>\n      <td>0.493999</td>\n      <td>-0.688240</td>\n    </tr>\n  </tbody>\n</table>\n</div>"
     },
     "metadata": {},
     "execution_count": 197
    }
   ],
   "source": [
    "hose_test_res  =  calculate_t_test(hose_trades_15_20)\n",
    "hose_test_res"
   ]
  },
  {
   "cell_type": "code",
   "execution_count": null,
   "metadata": {},
   "outputs": [],
   "source": []
  }
 ]
}