{
  "nbformat": 4,
  "nbformat_minor": 0,
  "metadata": {
    "language_info": {
      "codemirror_mode": {
        "name": "ipython",
        "version": 3
      },
      "file_extension": ".py",
      "mimetype": "text/x-python",
      "name": "python",
      "nbconvert_exporter": "python",
      "pygments_lexer": "ipython3",
      "version": "3.8.5-final"
    },
    "orig_nbformat": 2,
    "kernelspec": {
      "name": "python3",
      "display_name": "Python 3.8.5 64-bit ('base': conda)",
      "metadata": {
        "interpreter": {
          "hash": "b5ecc31e565de74f2cde783accb45dd0eb98b9609177f37cf7649de894cda790"
        }
      }
    },
    "colab": {
      "name": "Market_Forces.ipynb",
      "provenance": [],
      "include_colab_link": true
    }
  },
  "cells": [
    {
      "cell_type": "markdown",
      "metadata": {
        "id": "view-in-github",
        "colab_type": "text"
      },
      "source": [
        "<a href=\"https://colab.research.google.com/github/plklinh/DATA501_Project/blob/main/Market_Forces.ipynb\" target=\"_parent\"><img src=\"https://colab.research.google.com/assets/colab-badge.svg\" alt=\"Open In Colab\"/></a>"
      ]
    },
    {
      "cell_type": "code",
      "metadata": {
        "colab": {
          "base_uri": "https://localhost:8080/"
        },
        "id": "jPZYbhgIYnk7",
        "outputId": "91b0d368-ae7f-4dd9-94e5-7b82a00e1f45"
      },
      "source": [
        "from google.colab import drive\n",
        "drive.mount('/content/drive')"
      ],
      "execution_count": 2,
      "outputs": [
        {
          "output_type": "stream",
          "text": [
            "Mounted at /content/drive\n"
          ],
          "name": "stdout"
        }
      ]
    },
    {
      "cell_type": "code",
      "metadata": {
        "colab": {
          "base_uri": "https://localhost:8080/"
        },
        "id": "aY8qzzyAY1KK",
        "outputId": "bae90221-19ca-4085-bb71-430138ad5179"
      },
      "source": [
        "%cd drive/My\\ Drive/U\\ of\\ C/Data\\ 501/DATA501_Project"
      ],
      "execution_count": 3,
      "outputs": [
        {
          "output_type": "stream",
          "text": [
            "/content/drive/My Drive/U of C/Data 501/DATA501_Project\n"
          ],
          "name": "stdout"
        }
      ]
    },
    {
      "cell_type": "code",
      "metadata": {
        "id": "LrXaf_O0Up_w"
      },
      "source": [
        "import pandas as pd\n",
        "import numpy as np\n",
        "import datetime\n",
        "\n",
        "import plotly.express as px\n",
        "import plotly.graph_objects as go\n",
        "import matplotlib.pyplot as plt"
      ],
      "execution_count": 4,
      "outputs": []
    },
    {
      "cell_type": "code",
      "metadata": {
        "id": "AlhbxRkOUp_z"
      },
      "source": [
        "def convert_datetime(df):\n",
        "    df[\"Date\"] = pd.to_datetime(df[\"Date\"]) \n",
        "\n",
        "def set_datetime_index(df):\n",
        "    df.set_index(\"Date\", inplace=True)\n",
        "    df.set_index( pd.to_datetime(df.index), inplace= True)\n",
        "\n",
        "def split_train_test(df, perc):\n",
        "    cut_off = int (np.round( df.shape[0] * perc ))\n",
        "    return df[:cut_off], df[cut_off:]"
      ],
      "execution_count": 10,
      "outputs": []
    },
    {
      "cell_type": "code",
      "metadata": {
        "id": "MrAPmP1oUp_0"
      },
      "source": [
        "hose = pd.read_csv(\"cleaned data/VNINDEX_2000_2020.csv\")\n",
        "hnx = pd.read_csv(\"cleaned data/HNX_2000_2020.csv\")\n",
        "set_datetime_index(hose)\n",
        "set_datetime_index(hnx)"
      ],
      "execution_count": 11,
      "outputs": []
    },
    {
      "cell_type": "markdown",
      "metadata": {
        "id": "cZaX9DhAUp_0"
      },
      "source": [
        "**Time Trends**"
      ]
    },
    {
      "cell_type": "markdown",
      "metadata": {
        "id": "S8Yi5w6BUp_3"
      },
      "source": [
        "# Relationship with Foreign Markets "
      ]
    },
    {
      "cell_type": "code",
      "metadata": {
        "id": "cHqCnRBqUp_3"
      },
      "source": [
        "def calc_trade_corr(vn_si_df, partner_si):\n",
        "    partner_si_df = pd.DataFrame(partner_si) \n",
        "    trade_comp =partner_si_df.merge(vn_si_df, on = \"Date\" ,\n",
        "                    how =\"right\")\n",
        "    trade_comp.dropna(inplace=True)\n",
        "    trade_return_comp = trade_comp.pct_change()\n",
        "    return trade_return_comp.corr()\n",
        "\n",
        "def make_garch_df(vn_si, partner_si):\n",
        "    partner_si_df = pd.DataFrame(partner_si) \n",
        "    trade_comp =partner_si_df.merge(vn_si, on = \"Date\" ,\n",
        "                    how =\"inner\")   \n",
        "    trade_comp.dropna(inplace=True)\n",
        "    trade_comp.set_index(\"Date\", inplace=True)\n",
        "    trade_comp.set_index( pd.to_datetime(trade_comp.index), inplace= True)\n",
        "    trade_comp_log = np.log(trade_comp[[vn_si.columns[1], partner_si.name]])\n",
        "    \n",
        "    return  (trade_comp_log).diff().dropna()"
      ],
      "execution_count": 9,
      "outputs": []
    },
    {
      "cell_type": "code",
      "metadata": {
        "id": "OKJYLQDOUp_4"
      },
      "source": [
        "trade_partners_index = pd.read_csv(\"cleaned data/Trading Partners 2000_2020.csv\")\n",
        "set_datetime_index(trade_partners_index)\n",
        "\n",
        "hose_si_df = pd.DataFrame(hose[[\"Close\"]])\n",
        "hose_si_df.rename(columns = {\"Close\": \"VNINDEX\"}, inplace = True)\n",
        "\n",
        "us_si = trade_partners_index[\"^GSPC\"]\n",
        "us_si.index =   us_si.index - pd.Timedelta(1, unit=\"day\")\n",
        "\n",
        "japan_si = trade_partners_index[\"^N225\"]\n",
        "hongkong_si = trade_partners_index[\"^HSI\"]\n",
        "korea_si = trade_partners_index[\"^KS11\"]\n",
        "shanghai_si = trade_partners_index[\"000001.SS\"]"
      ],
      "execution_count": 14,
      "outputs": []
    },
    {
      "cell_type": "code",
      "metadata": {
        "colab": {
          "base_uri": "https://localhost:8080/"
        },
        "id": "pmIo5bkhfKHc",
        "outputId": "8aaa1b8b-bb55-4a19-8183-4840fbd8b956"
      },
      "source": [
        "for partner_si in [us_si, japan_si, hongkong_si, korea_si, shanghai_si]:\n",
        "    print(calc_trade_corr(hose_si_df, partner_si))"
      ],
      "execution_count": 15,
      "outputs": [
        {
          "output_type": "stream",
          "text": [
            "            ^GSPC   VNINDEX\n",
            "^GSPC    1.000000  0.007002\n",
            "VNINDEX  0.007002  1.000000\n",
            "            ^N225   VNINDEX\n",
            "^N225    1.000000  0.178233\n",
            "VNINDEX  0.178233  1.000000\n",
            "             ^HSI   VNINDEX\n",
            "^HSI     1.000000  0.139768\n",
            "VNINDEX  0.139768  1.000000\n",
            "         ^KS11  VNINDEX\n",
            "^KS11    1.000    0.118\n",
            "VNINDEX  0.118    1.000\n",
            "           000001.SS   VNINDEX\n",
            "000001.SS   1.000000  0.122549\n",
            "VNINDEX     0.122549  1.000000\n"
          ],
          "name": "stdout"
        }
      ]
    },
    {
      "cell_type": "code",
      "metadata": {
        "id": "jUCpd2hZUp_4",
        "outputId": "76fd299a-0048-4dcc-d806-7d35231fff2e"
      },
      "source": [
        "us_vn_rets = make_garch_df(hose_si_df, us_si)\n",
        "us_vn_rets.head()"
      ],
      "execution_count": null,
      "outputs": [
        {
          "output_type": "execute_result",
          "data": {
            "text/plain": [
              "             VNINDEX     ^GSPC\n",
              "Date                          \n",
              "2000-08-02  0.017860  0.010005\n",
              "2000-08-07  0.033669  0.020605\n",
              "2000-08-09  0.015959 -0.015325\n",
              "2000-08-14  0.031173  0.016423\n",
              "2000-08-16  0.015230  0.007811"
            ],
            "text/html": [
              "<div>\n",
              "<style scoped>\n",
              "    .dataframe tbody tr th:only-of-type {\n",
              "        vertical-align: middle;\n",
              "    }\n",
              "\n",
              "    .dataframe tbody tr th {\n",
              "        vertical-align: top;\n",
              "    }\n",
              "\n",
              "    .dataframe thead th {\n",
              "        text-align: right;\n",
              "    }\n",
              "</style>\n",
              "<table border=\"1\" class=\"dataframe\">\n",
              "  <thead>\n",
              "    <tr style=\"text-align: right;\">\n",
              "      <th></th>\n",
              "      <th>VNINDEX</th>\n",
              "      <th>^GSPC</th>\n",
              "    </tr>\n",
              "    <tr>\n",
              "      <th>Date</th>\n",
              "      <th></th>\n",
              "      <th></th>\n",
              "    </tr>\n",
              "  </thead>\n",
              "  <tbody>\n",
              "    <tr>\n",
              "      <th>2000-08-02</th>\n",
              "      <td>0.017860</td>\n",
              "      <td>0.010005</td>\n",
              "    </tr>\n",
              "    <tr>\n",
              "      <th>2000-08-07</th>\n",
              "      <td>0.033669</td>\n",
              "      <td>0.020605</td>\n",
              "    </tr>\n",
              "    <tr>\n",
              "      <th>2000-08-09</th>\n",
              "      <td>0.015959</td>\n",
              "      <td>-0.015325</td>\n",
              "    </tr>\n",
              "    <tr>\n",
              "      <th>2000-08-14</th>\n",
              "      <td>0.031173</td>\n",
              "      <td>0.016423</td>\n",
              "    </tr>\n",
              "    <tr>\n",
              "      <th>2000-08-16</th>\n",
              "      <td>0.015230</td>\n",
              "      <td>0.007811</td>\n",
              "    </tr>\n",
              "  </tbody>\n",
              "</table>\n",
              "</div>"
            ]
          },
          "metadata": {
            "tags": []
          },
          "execution_count": 14
        }
      ]
    },
    {
      "cell_type": "code",
      "metadata": {
        "id": "WjCzYPcvUp_4"
      },
      "source": [
        "import mgarch"
      ],
      "execution_count": null,
      "outputs": []
    },
    {
      "cell_type": "code",
      "metadata": {
        "id": "UbAM9M-WUp_4"
      },
      "source": [
        "vol = mgarch.mgarch()\n",
        "vol.fit(us_vn_rets)\n",
        "ndays = 10 # volatility of nth day\n",
        "cov_nextday = vol.predict(ndays)"
      ],
      "execution_count": null,
      "outputs": []
    },
    {
      "cell_type": "code",
      "metadata": {
        "id": "W-j29WqSUp_4",
        "outputId": "45ac7ab6-3055-4594-83a9-1f37a03e78e9"
      },
      "source": [
        "cov_predict = []\n",
        "for nday in len(us_vn_rets):\n",
        "    cov_nextday.append"
      ],
      "execution_count": null,
      "outputs": [
        {
          "output_type": "execute_result",
          "data": {
            "text/plain": [
              "{'dist': 'norm',\n",
              " 'cov': array([[ 2.93588699e-04, -1.09858054e-05],\n",
              "        [-1.09858054e-05,  8.88996696e-05]])}"
            ]
          },
          "metadata": {
            "tags": []
          },
          "execution_count": 10
        }
      ]
    },
    {
      "cell_type": "code",
      "metadata": {
        "id": "5eG2ccDQUp_5",
        "outputId": "0eb19db6-5666-46ea-85dc-53a76d464709"
      },
      "source": [
        "print(vol.a)\n",
        "print(vol.b)\n",
        "print(vol.D_t)\n",
        "print(vol.dof)"
      ],
      "execution_count": null,
      "outputs": [
        {
          "output_type": "stream",
          "text": [
            "6.943343884604887e-05\n",
            "0.10370417533200246\n",
            "[[0.01723761 0.00975365]\n",
            " [0.01666773 0.00945725]\n",
            " [0.01785221 0.01000575]\n",
            " ...\n",
            " [0.01036467 0.0054509 ]\n",
            " [0.0101155  0.00546199]\n",
            " [0.0096354  0.00530213]]\n"
          ],
          "name": "stdout"
        },
        {
          "output_type": "error",
          "ename": "AttributeError",
          "evalue": "'mgarch' object has no attribute 'dof'",
          "traceback": [
            "\u001b[0;31m---------------------------------------------------------------------------\u001b[0m",
            "\u001b[0;31mAttributeError\u001b[0m                            Traceback (most recent call last)",
            "\u001b[0;32m<ipython-input-15-7209c3588dfc>\u001b[0m in \u001b[0;36m<module>\u001b[0;34m\u001b[0m\n\u001b[1;32m      2\u001b[0m \u001b[0mprint\u001b[0m\u001b[0;34m(\u001b[0m\u001b[0mvol\u001b[0m\u001b[0;34m.\u001b[0m\u001b[0mb\u001b[0m\u001b[0;34m)\u001b[0m\u001b[0;34m\u001b[0m\u001b[0;34m\u001b[0m\u001b[0m\n\u001b[1;32m      3\u001b[0m \u001b[0mprint\u001b[0m\u001b[0;34m(\u001b[0m\u001b[0mvol\u001b[0m\u001b[0;34m.\u001b[0m\u001b[0mD_t\u001b[0m\u001b[0;34m)\u001b[0m\u001b[0;34m\u001b[0m\u001b[0;34m\u001b[0m\u001b[0m\n\u001b[0;32m----> 4\u001b[0;31m \u001b[0mprint\u001b[0m\u001b[0;34m(\u001b[0m\u001b[0mvol\u001b[0m\u001b[0;34m.\u001b[0m\u001b[0mdof\u001b[0m\u001b[0;34m)\u001b[0m\u001b[0;34m\u001b[0m\u001b[0;34m\u001b[0m\u001b[0m\n\u001b[0m",
            "\u001b[0;31mAttributeError\u001b[0m: 'mgarch' object has no attribute 'dof'"
          ]
        }
      ]
    },
    {
      "cell_type": "code",
      "metadata": {
        "id": "9LffCaS6Up_5",
        "outputId": "3e07ba43-15c3-4cc3-9f31-445b50666992"
      },
      "source": [
        "vol.__dict__"
      ],
      "execution_count": null,
      "outputs": [
        {
          "output_type": "execute_result",
          "data": {
            "text/plain": [
              "{'dist': 'norm',\n",
              " 'rt': matrix([[ 0.01723761,  0.00975365],\n",
              "         [ 0.03304675,  0.02035354],\n",
              "         [ 0.01533615, -0.0155757 ],\n",
              "         ...,\n",
              "         [ 0.01083251,  0.00620372],\n",
              "         [ 0.00682668,  0.00108952],\n",
              "         [-0.00239774,  0.00616708]]),\n",
              " 'T': 3823,\n",
              " 'N': 2,\n",
              " 'mean': matrix([[0.00062262, 0.00025112]]),\n",
              " 'D_t': array([[0.01723761, 0.00975365],\n",
              "        [0.01666773, 0.00945725],\n",
              "        [0.01785221, 0.01000575],\n",
              "        ...,\n",
              "        [0.01036467, 0.0054509 ],\n",
              "        [0.0101155 , 0.00546199],\n",
              "        [0.0096354 , 0.00530213]]),\n",
              " 'a': 6.943343884604887e-05,\n",
              " 'b': 0.10370417533200246}"
            ]
          },
          "metadata": {
            "tags": []
          },
          "execution_count": 17
        }
      ]
    },
    {
      "cell_type": "code",
      "metadata": {
        "id": "H0XrgvteUp_5"
      },
      "source": [
        ""
      ],
      "execution_count": null,
      "outputs": []
    }
  ]
}